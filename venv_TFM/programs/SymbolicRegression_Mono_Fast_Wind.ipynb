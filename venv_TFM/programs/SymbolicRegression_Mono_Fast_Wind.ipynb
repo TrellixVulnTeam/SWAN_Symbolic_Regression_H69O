{
 "cells": [
  {
   "cell_type": "markdown",
   "id": "fb14774a",
   "metadata": {},
   "source": [
    "# Symbolic regression monobjective for fast solar wind"
   ]
  },
  {
   "cell_type": "markdown",
   "id": "1963ca1d",
   "metadata": {},
   "source": [
    "#### 1. Libraries importation"
   ]
  },
  {
   "cell_type": "code",
   "execution_count": 1,
   "id": "130ac64e",
   "metadata": {},
   "outputs": [],
   "source": [
    "import math\n",
    "from tqdm import tqdm\n",
    "import random\n",
    "import csv\n",
    "import datetime\n",
    "import time\n",
    "import numpy\n",
    "import operator\n",
    "import matplotlib.pyplot as plt\n",
    "import multiprocessing\n",
    "from concurrent.futures import ProcessPoolExecutor, ThreadPoolExecutor\n",
    "import pandas as pd\n",
    "from deap import algorithms, base, creator , tools, gp\n",
    "from sympy import sympify, sin, cos, simplify\n",
    "import operations\n",
    "import evaluators"
   ]
  },
  {
   "cell_type": "markdown",
   "id": "46bc9e6f",
   "metadata": {},
   "source": [
    "#### 2. CSV importation and analysis"
   ]
  },
  {
   "cell_type": "code",
   "execution_count": 2,
   "id": "8480873c",
   "metadata": {},
   "outputs": [],
   "source": [
    "fast_wind = pd.read_csv(r'C:\\Users\\Christian Mariscal\\Documents\\TFM\\venv_TFM\\gp_data\\fast_model_io.csv', delimiter = ',')\n",
    "forecast = fast_wind['forecast']\n",
    "fast_wind = fast_wind.drop(['Unnamed: 0', 'forecast'], axis = 1)"
   ]
  },
  {
   "cell_type": "code",
   "execution_count": 3,
   "id": "f1c91661",
   "metadata": {},
   "outputs": [],
   "source": [
    "# fast_wind.head()"
   ]
  },
  {
   "cell_type": "code",
   "execution_count": 4,
   "id": "c21f8bea",
   "metadata": {},
   "outputs": [],
   "source": [
    "# forecast.head()"
   ]
  },
  {
   "cell_type": "code",
   "execution_count": 5,
   "id": "5c36aea7",
   "metadata": {},
   "outputs": [],
   "source": [
    "# fast_wind.describe()"
   ]
  },
  {
   "cell_type": "code",
   "execution_count": 6,
   "id": "e031c95a",
   "metadata": {},
   "outputs": [],
   "source": [
    "# forecast.describe()"
   ]
  },
  {
   "cell_type": "code",
   "execution_count": 7,
   "id": "20b26335",
   "metadata": {
    "scrolled": true
   },
   "outputs": [],
   "source": [
    "# fast_wind.info()"
   ]
  },
  {
   "cell_type": "code",
   "execution_count": 8,
   "id": "2f475347",
   "metadata": {},
   "outputs": [],
   "source": [
    "# forecast.info()"
   ]
  },
  {
   "cell_type": "markdown",
   "id": "934c1d62",
   "metadata": {},
   "source": [
    "#### 3. Defining primitive set"
   ]
  },
  {
   "cell_type": "code",
   "execution_count": 9,
   "id": "93f2d09d",
   "metadata": {},
   "outputs": [],
   "source": [
    "#Second argument = number of variables in problem (this case, 56 vars)\n",
    "pset = gp.PrimitiveSet(\"MAIN\", 56)\n",
    "#Second argument = arity\n",
    "pset.addPrimitive(operations.add, 2)\n",
    "pset.addPrimitive(operations.sub, 2)\n",
    "pset.addPrimitive(operations.mul, 2)\n",
    "pset.addPrimitive(operations.protectedDiv, 2)\n",
    "pset.addPrimitive(operations.cos, 1)\n",
    "pset.addPrimitive(operations.sin, 1)\n",
    "pset.addPrimitive(operations.tan, 1)\n",
    "pset.addPrimitive(operations.asin, 1)\n",
    "pset.addPrimitive(operations.acos, 1)\n",
    "pset.addPrimitive(operations.atan, 1)\n",
    "pset.addPrimitive(operations.log10, 1)\n",
    "pset.addPrimitive(operations.log, 1)\n",
    "pset.addPrimitive(operations.sqrt, 1)\n",
    "pset.addPrimitive(operations.exp, 1)\n",
    "pset.addPrimitive(operations.pow, 2)\n",
    "\n",
    "pset.addEphemeralConstant(\"rand101\", lambda: random.randint(-1000,1000))\n",
    "pset.addEphemeralConstant(\"pi\", lambda: math.pi)\n",
    "pset.addEphemeralConstant(\"e\", lambda: math.e)\n",
    "\n",
    "#Renaming arguments\n",
    "renArg = dict(zip(pset.arguments, list(fast_wind.columns)))\n",
    "pset.renameArguments(**renArg)\n"
   ]
  },
  {
   "cell_type": "code",
   "execution_count": 10,
   "id": "f07b3c4f",
   "metadata": {},
   "outputs": [],
   "source": [
    "def avgAbsError(individual, dataframe, forecast):\n",
    "    \n",
    "    # Transform the tree expression in a callable function\n",
    "    func = toolbox.compile(expr=individual)\n",
    "    \n",
    "    # Evaluate the mean squared error between the expression and the real function\n",
    "    AvgAbsError = [abs(func(*dataframe.iloc[nrow]) - forecast[nrow]) for nrow in random.sample(range(len(dataframe)), int(len(dataframe)/2))]\n",
    "\n",
    "    return sum(AvgAbsError) / len(AvgAbsError),"
   ]
  },
  {
   "cell_type": "markdown",
   "id": "766fcc72",
   "metadata": {},
   "source": [
    "#### 4. Parameters definition"
   ]
  },
  {
   "cell_type": "code",
   "execution_count": 11,
   "id": "628f9c61",
   "metadata": {
    "scrolled": false
   },
   "outputs": [],
   "source": [
    "#Defining fitness class\n",
    "creator.create(\"FitnessMin\", base.Fitness, weights=(-1,))\n",
    "\n",
    "#Defining individuals shape and associating fitness attribute\n",
    "creator.create(\"Individual\", gp.PrimitiveTree, fitness=creator.FitnessMin)\n",
    "\n",
    "#Creating toolbox to register: population creation, evaluation function, selection mecanism\n",
    "#and genetic operators\n",
    "toolbox = base.Toolbox()\n",
    "toolbox.register(\"expr\", gp.genHalfAndHalf, pset=pset, min_=1, max_=2)\n",
    "toolbox.register(\"individual\", tools.initIterate, creator.Individual, toolbox.expr)\n",
    "toolbox.register(\"population\", tools.initRepeat, list, toolbox.individual)\n",
    "toolbox.register(\"compile\", gp.compile, pset=pset)\n",
    "toolbox.register(\"evaluate\", avgAbsError, dataframe=fast_wind, forecast=forecast)\n",
    "toolbox.register(\"select\", tools.selTournament, tournsize=3)\n",
    "toolbox.register(\"mate\", gp.cxOnePoint)\n",
    "toolbox.register(\"expr_mut\", gp.genFull, min_=0, max_=2)\n",
    "toolbox.register(\"mutate\", gp.mutUniform, expr=toolbox.expr_mut, pset=pset)\n",
    "toolbox.decorate(\"mate\", gp.staticLimit(key=operator.attrgetter(\"height\"), max_value=20))\n",
    "toolbox.decorate(\"mutate\", gp.staticLimit(key=operator.attrgetter(\"height\"), max_value=20))"
   ]
  },
  {
   "cell_type": "markdown",
   "id": "6e83c5c2",
   "metadata": {},
   "source": [
    "#### 5. Algorithm initialization"
   ]
  },
  {
   "cell_type": "code",
   "execution_count": 12,
   "id": "7eb5dbac",
   "metadata": {},
   "outputs": [],
   "source": [
    "def StatsToCsv(StatsDF):\n",
    "    replacement = [' ',':','.']\n",
    "    date=datetime.datetime.now()\n",
    "    for sign in replacement:\n",
    "        date = str(date).replace(str(sign), '_') \n",
    "    StatsDF.to_csv(f'~\\Documents\\TFM\\\\venv_TFM\\Stats\\MonoStats\\\\fast\\Stats{date}.csv')"
   ]
  },
  {
   "cell_type": "code",
   "execution_count": 13,
   "id": "e36561bd",
   "metadata": {},
   "outputs": [],
   "source": [
    "def EquationSimplifier(ind): \n",
    "    locals = {\n",
    "        'sub': operations.sub,\n",
    "        'protectedDiv': operations.protectedDiv,\n",
    "        'mul': operations.mul,\n",
    "        'add': operations.add,\n",
    "        'pow': operations.pow\n",
    "    }\n",
    "    expr = sympify(ind , locals=locals)\n",
    "    return expr"
   ]
  },
  {
   "cell_type": "code",
   "execution_count": 14,
   "id": "fefe4f4d",
   "metadata": {},
   "outputs": [
    {
     "name": "stdout",
     "output_type": "stream",
     "text": [
      "------Let's select algorithm parameters------\n",
      "Select number of individuals: 10\n",
      "Select crossover probability: .75\n",
      "Select mutation probability: .25\n",
      "Select number of generations: 10\n",
      "Select accelerator: Multithreading(1), multiprocessing(2) or none(3): 1\n",
      "--------Starting algorithm of 10 individuals and 10 generations--------\n",
      "---------Entering multithreading--------\n"
     ]
    },
    {
     "name": "stderr",
     "output_type": "stream",
     "text": [
      "\r",
      "  0%|                                                                                           | 0/10 [00:00<?, ?it/s]"
     ]
    },
    {
     "name": "stdout",
     "output_type": "stream",
     "text": [
      "--------Entering generation 1--------\n"
     ]
    },
    {
     "name": "stderr",
     "output_type": "stream",
     "text": [
      "\r",
      " 10%|████████▎                                                                          | 1/10 [00:00<00:05,  1.64it/s]"
     ]
    },
    {
     "name": "stdout",
     "output_type": "stream",
     "text": [
      "Best individual fitness is: 518.4528381349585\n",
      "--------Entering generation 2--------\n"
     ]
    },
    {
     "name": "stderr",
     "output_type": "stream",
     "text": [
      "\r",
      " 20%|████████████████▌                                                                  | 2/10 [00:00<00:03,  2.26it/s]"
     ]
    },
    {
     "name": "stdout",
     "output_type": "stream",
     "text": [
      "Best individual fitness is: 516.5297168438415\n",
      "--------Entering generation 3--------\n"
     ]
    },
    {
     "name": "stderr",
     "output_type": "stream",
     "text": [
      "\r",
      " 30%|████████████████████████▉                                                          | 3/10 [00:01<00:02,  2.72it/s]"
     ]
    },
    {
     "name": "stdout",
     "output_type": "stream",
     "text": [
      "Best individual fitness is: 518.4528381349585\n",
      "--------Entering generation 4--------\n"
     ]
    },
    {
     "name": "stderr",
     "output_type": "stream",
     "text": [
      "\r",
      " 40%|█████████████████████████████████▏                                                 | 4/10 [00:01<00:02,  2.79it/s]"
     ]
    },
    {
     "name": "stdout",
     "output_type": "stream",
     "text": [
      "Best individual fitness is: 514.1849377395808\n",
      "--------Entering generation 5--------\n"
     ]
    },
    {
     "name": "stderr",
     "output_type": "stream",
     "text": [
      "\r",
      " 50%|█████████████████████████████████████████▌                                         | 5/10 [00:01<00:01,  3.03it/s]"
     ]
    },
    {
     "name": "stdout",
     "output_type": "stream",
     "text": [
      "Best individual fitness is: 130.28130527232184\n",
      "--------Entering generation 6--------\n"
     ]
    },
    {
     "name": "stderr",
     "output_type": "stream",
     "text": [
      "\r",
      " 60%|█████████████████████████████████████████████████▊                                 | 6/10 [00:02<00:01,  3.17it/s]"
     ]
    },
    {
     "name": "stdout",
     "output_type": "stream",
     "text": [
      "Best individual fitness is: 130.28130527232184\n",
      "--------Entering generation 7--------\n"
     ]
    },
    {
     "name": "stderr",
     "output_type": "stream",
     "text": [
      "\r",
      " 70%|██████████████████████████████████████████████████████████                         | 7/10 [00:02<00:00,  3.10it/s]"
     ]
    },
    {
     "name": "stdout",
     "output_type": "stream",
     "text": [
      "Best individual fitness is: 126.82573090409883\n",
      "--------Entering generation 8--------\n"
     ]
    },
    {
     "name": "stderr",
     "output_type": "stream",
     "text": [
      "\r",
      " 80%|██████████████████████████████████████████████████████████████████▍                | 8/10 [00:02<00:00,  3.03it/s]"
     ]
    },
    {
     "name": "stdout",
     "output_type": "stream",
     "text": [
      "Best individual fitness is: 130.28130527232184\n",
      "--------Entering generation 9--------\n"
     ]
    },
    {
     "name": "stderr",
     "output_type": "stream",
     "text": [
      "\r",
      " 90%|██████████████████████████████████████████████████████████████████████████▋        | 9/10 [00:03<00:00,  3.05it/s]"
     ]
    },
    {
     "name": "stdout",
     "output_type": "stream",
     "text": [
      "Best individual fitness is: 88.98153826724182\n",
      "--------Entering generation 10--------\n"
     ]
    },
    {
     "name": "stderr",
     "output_type": "stream",
     "text": [
      "100%|██████████████████████████████████████████████████████████████████████████████████| 10/10 [00:03<00:00,  2.91it/s]"
     ]
    },
    {
     "name": "stdout",
     "output_type": "stream",
     "text": [
      "Best individual fitness is: 82.74608429856121\n",
      "--------Algorithm execution took 4.389445543289185 s--------\n",
      "Metric of best individual is: (88.98153826724182,)\n",
      "--------Original equation--------: speed_carrington_3\n",
      "--------Simplified equation--------: speed_carrington_3\n"
     ]
    },
    {
     "name": "stderr",
     "output_type": "stream",
     "text": [
      "\n"
     ]
    }
   ],
   "source": [
    "def eaSimpleOr(population, toolbox, cxpb, mutpb, ngen, stats=None,\n",
    "             halloffame=None, verbose=__debug__, multiThread = False, multiProcess = False):\n",
    "\n",
    "    print(f'--------Starting algorithm of {len(population)} individuals and {ngen} generations--------')\n",
    "    start = time.time()\n",
    "    logbook = tools.Logbook()\n",
    "    logbook.header = ['gen', 'nevals'] + (stats.fields if stats else [])\n",
    "\n",
    "    # Evaluate the individuals with an invalid fitness\n",
    "    invalid_ind = [ind for ind in population if not ind.fitness.valid]\n",
    "    if multiThread == True: \n",
    "        print(f'---------Entering multithreading--------')\n",
    "        with ThreadPoolExecutor() as executor:\n",
    "            futures = []\n",
    "            for ind in invalid_ind: \n",
    "                future = executor.submit(toolbox.evaluate, ind)\n",
    "                futures.append(future)\n",
    "            fitnesses = [future.result() for future in futures]\n",
    "    elif multiProcess==True:\n",
    "        print('--------Entering multiprocessing--------')\n",
    "        fitnesses = toolbox.map(toolbox.evaluate, invalid_ind)\n",
    "    else: \n",
    "        print('--------Entering without accelerators activated--------')\n",
    "        fitnesses = toolbox.map(toolbox.evaluate, invalid_ind)\n",
    "         \n",
    "    for ind, fit in zip(invalid_ind, fitnesses):\n",
    "        ind.fitness.values = fit\n",
    "    if halloffame is not None:\n",
    "        halloffame.update(population)\n",
    "        hof_size = len(halloffame.items) \n",
    "    else: \n",
    "        hof_size=0\n",
    "\n",
    "    record = stats.compile(population) if stats else {}\n",
    "    logbook.record(gen=0, nevals=len(invalid_ind), **record)\n",
    "    # Begin the generational process\n",
    "    for gen in tqdm(range(1, ngen + 1)):\n",
    "        # Select the next generation individuals\n",
    "        offspring = toolbox.select(population, len(population)-hof_size)\n",
    "\n",
    "        # Vary the pool of individuals\n",
    "        offspring = algorithms.varOr(offspring, toolbox, len(population)-hof_size, cxpb, mutpb)\n",
    "\n",
    "        # Evaluate the individuals with an invalid fitness\n",
    "        invalid_ind = [ind for ind in offspring if not ind.fitness.valid]\n",
    "        \n",
    "        if multiThread == True: \n",
    "            print(f'--------Entering generation {gen}--------')\n",
    "            with ThreadPoolExecutor() as executor:\n",
    "                futures = []\n",
    "                for ind in invalid_ind: \n",
    "                    future = executor.submit(toolbox.evaluate, ind)\n",
    "                    futures.append(future)\n",
    "                fitnesses = [future.result() for future in futures]\n",
    "        else: \n",
    "            print(f'--------Entering generation {gen}--------')\n",
    "            fitnesses = toolbox.map(toolbox.evaluate, invalid_ind)\n",
    "        \n",
    "        for ind, fit in zip(invalid_ind, fitnesses):\n",
    "            ind.fitness.values = fit\n",
    "\n",
    "        # Update the hall of fame with the generated individuals\n",
    "        if halloffame is not None:\n",
    "            offspring.extend(halloffame.items)\n",
    "            halloffame.update(offspring)\n",
    "            fitnesses.extend(hof.fitness.values for hof in halloffame)\n",
    "            \n",
    "        # Replace the current population by the offspring\n",
    "        population[:] = offspring\n",
    "\n",
    "        #Print best individual fitness\n",
    "        metrics = [fitness[0] for fitness in fitnesses]\n",
    "        print(f\"Best individual fitness is: {min(metrics)}\")\n",
    "        # Append the current generation statistics to the logbook\n",
    "        record = stats.compile(population) if stats else {}\n",
    "        logbook.record(gen=gen, nevals=len(invalid_ind), **record)\n",
    "        if verbose:\n",
    "            StatisticsDataFrame = (logbook.stream)\n",
    "            \n",
    "        bestMetric = min([king.fitness.values for king in hof.items])\n",
    "        for king in hof.items: \n",
    "            if king.fitness.values == bestMetric: \n",
    "                emperor = king\n",
    "        SimplerExpr = EquationSimplifier(emperor.__str__())\n",
    "    \n",
    "        print(f'{popSize};{cxpb};{mtpb};{ngen};{accelerator};{emperor.__str__()};{bestMetric};', file=open(r'C:\\Users\\Christian Mariscal\\Documents\\TFM\\venv_TFM\\results\\fast\\mono\\genStats\\results.txt', 'a'))\n",
    "\n",
    "    end = time.time()\n",
    "    \n",
    "    print(f'--------Algorithm execution took {end - start} s--------')\n",
    "    \n",
    "    return population, logbook, halloffame, StatisticsDataFrame\n",
    "\n",
    "if __name__ == \"__main__\": \n",
    "    \n",
    "    random.seed(318)\n",
    "    CPUs = None\n",
    "    multiProcess = False\n",
    "    multiThread = False\n",
    "    \n",
    "    print('------Let\\'s select algorithm parameters------')\n",
    "    popSize=int(input('Select number of individuals: '))\n",
    "    pop = toolbox.population(n=popSize)\n",
    "    cxpb = float(input('Select crossover probability: '))\n",
    "    mtpb = float(input('Select mutation probability: '))\n",
    "    ngen = int(input('Select number of generations: '))\n",
    "    accelerator = int(input('Select accelerator: Multithreading(1), multiprocessing(2) or none(3): '))\n",
    "    if accelerator == 1: \n",
    "        multiThread = True\n",
    "    elif accelerator == 2:\n",
    "        multiProcess = True\n",
    "        CPUs = int(input(f'Select number of cpu\\'s for multiprocessing (CPUs available = {multiprocessing.cpu_count()}): '))\n",
    "        pool = multiprocessing.Pool(CPUs)\n",
    "        toolbox.register(\"map\", pool.map)\n",
    "        \n",
    "    hof = tools.HallOfFame(3)\n",
    "    stats_fit_AAE = tools.Statistics(lambda ind: ind.fitness.values)\n",
    "    stats_size = tools.Statistics(len)\n",
    "    mstats = tools.MultiStatistics(AAE=stats_fit_AAE, size=stats_size)\n",
    "    mstats.register(\"avg\", numpy.mean)\n",
    "    mstats.register(\"std\", numpy.std)\n",
    "    mstats.register(\"min\", numpy.min)\n",
    "    mstats.register(\"max\", numpy.max)\n",
    "    \n",
    "    pop, log, hof, StatisticsDataFrame = eaSimpleOr(pop, toolbox, cxpb, mtpb, ngen, stats=mstats, halloffame=hof, verbose=True, multiProcess = multiProcess, multiThread = multiThread)\n",
    "    \n",
    "    #Compute best individual metrics\n",
    "    bestMetric = min([king.fitness.values for king in hof.items])\n",
    "    print(f\"Metric of best individual is: {bestMetric}\")\n",
    "    \n",
    "    #Extracting simpler equation\n",
    "    for king in hof.items: \n",
    "        if king.fitness.values == bestMetric: \n",
    "            emperor = king\n",
    "    SimplerExpr = EquationSimplifier(emperor.__str__())\n",
    "    print(f'--------Original equation--------: {emperor.__str__()}')\n",
    "    print(f'--------Simplified equation--------: {SimplerExpr}')\n",
    "    \n",
    "    #Save stats to csv\n",
    "    StatsToCsv(StatisticsDataFrame)"
   ]
  },
  {
   "cell_type": "markdown",
   "id": "7565e213",
   "metadata": {},
   "source": [
    "#### 7. Graphs"
   ]
  },
  {
   "cell_type": "code",
   "execution_count": 15,
   "id": "ef08039e",
   "metadata": {},
   "outputs": [],
   "source": [
    "# bestEq = pd.read_csv(r'~\\Documents\\TFM\\venv_TFM\\results\\slow\\mono\\genStats\\R2.txt', delimiter=';').iloc[-1]['bestEq']"
   ]
  },
  {
   "cell_type": "code",
   "execution_count": 16,
   "id": "6c0a4373",
   "metadata": {},
   "outputs": [],
   "source": [
    "# expr = bestEq\n",
    "# func = gp.compile(expr = expr, pset = pset)\n",
    "# predicted = [func(*slow_wind.iloc[i]) for i in range(len(slow_wind))]\n",
    "# forec = [forecast.iloc[i] for i in range(len(slow_wind))]\n",
    "# errors = [abs(i-j) for i,j in zip(predicted, forec)]\n",
    "# baseline = 24.92852089\n",
    "# errors = pd.DataFrame(errors, columns=['errors'])\n",
    "# bad_error = errors.loc[errors['errors']>baseline]\n",
    "# good_error = errors.loc[errors['errors']<baseline]\n",
    "# plt.hist(bad_error, color = 'r', label = f'Error > baseline: {len(bad_error)}', bins= int((bad_error.max()-bad_error.min())/5))\n",
    "# plt.hist(good_error, color = 'g', label = f'Error < baseline: {len(good_error)}', bins= int((good_error.max()-good_error.min())/5))\n",
    "# plt.legend()\n",
    "# plt.title('Distribution plot of errors')\n",
    "# plt.show()"
   ]
  },
  {
   "cell_type": "code",
   "execution_count": 17,
   "id": "bf46a6d5",
   "metadata": {},
   "outputs": [],
   "source": [
    "# expr = 'add(speed_1d_1, add(add(add(sub(p_density_1d_1, log(speed_1d_1)), add(add(cos(add(add(log10(sin(log(add(cos(Bt_1d_1), speed_1d_2)))), add(log10(pow(sub(p_density_1d_1, sin(log(p_density_1d_3))), log10(-2))), -2)), add(cos(sqrt(speed_1d_1)), add(add(log10(sin(log(add(cos(p_density_1d_1), speed_1d_2)))), add(log10(sin(log(sqrt(speed_1d_1)))), -2)), log10(sin(log(add(p_density_1d_1, speed_1d_2)))))))), add(add(add(log10(sin(log(add(Bt_1d_1, pow(exp(3.141592653589793), log(speed_1d_1)))))), add(log10(pow(sub(p_density_1d_1, tan(asin(temperature_1d_2))), log10(add(-2, add(add(speed_carrington_1, By_1d_4), log10(sub(p_density_1d_1, p_density_1d_1))))))), -2)), add(cos(sqrt(speed_1d_1)), add(add(log10(sin(log(log(add(cos(p_density_1d_1), speed_1d_2))))), -2), log10(sin(tan(3.141592653589793)))))), acos(p_density_carrington_1))), log10(sin(log(add(cos(p_density_1d_1), speed_1d_2)))))), add(add(add(add(cos(sqrt(speed_1d_1)), add(add(log10(sin(log(add(Bt_1d_1, pow(exp(3.141592653589793), log(speed_1d_1)))))), -2), add(cos(sqrt(speed_1d_1)), add(add(log10(By_1d_1), -2), asin(atan(By_1d_1)))))), add(log10(speed_1d_2), -2)), sub(add(sub(p_density_1d_1, p_density_carrington_3), Bt_1d_1), p_density_carrington_1)), sub(p_density_1d_1, log(speed_1d_1)))), add(add(Bt_carrington_2, add(add(cos(Bt_1d_1), add(add(add(cos(Bt_1d_1), add(add(sin(Bx_carrington_2), add(add(log10(Bx_carrington_2), add(-2, log10(By_1d_1))), log10(acos(add(p_density_1d_3, Bz_1d_2))))), atan(Bz_carrington_1))), add(add(cos(sqrt(speed_1d_1)), -2), add(cos(sqrt(speed_1d_1)), add(add(log10(-2), -2), asin(atan(By_1d_1)))))), add(add(cos(sqrt(speed_1d_1)), add(add(log10(exp(3.141592653589793)), -2), log10(Bt_1d_1))), atan(sin(log(add(p_density_1d_1, speed_1d_2))))))), -2)), protectedDiv(sub(add(add(add(sub(p_density_1d_1, log(add(-2, speed_1d_2))), sub(sub(p_density_1d_1, sin(sub(sub(sqrt(speed_1d_1), sin(log10(pow(sub(p_density_1d_1, p_density_1d_3), Bx_1d_4)))), log(acos(p_density_1d_1))))), log(add(sub(add(sin(By_1d_1), Bt_1d_1), p_density_carrington_1), speed_1d_2)))), add(add(log10(sin(log(add(cos(Bt_1d_1), speed_1d_2)))), add(log10(pow(sub(p_density_1d_1, sin(log(p_density_1d_3))), log10(-2))), -2)), add(cos(sqrt(speed_1d_1)), add(add(log10(sin(log(add(cos(p_density_1d_1), speed_1d_2)))), add(log10(sin(log(sqrt(speed_1d_1)))), -2)), log10(sin(log(add(p_density_1d_1, speed_1d_2)))))))), protectedDiv(sub(add(cos(Bt_1d_1), Bt_1d_1), add(sin(sub(Bt_1d_1, log(p_density_1d_1))), p_density_1d_3)), asin(add(speed_1d_3, Bz_1d_4)))), log(add(acos(add(-2, sub(sqrt(speed_1d_1), sin(log10(pow(sub(p_density_1d_1, p_density_1d_3), Bx_1d_4)))))), speed_1d_2))), asin(sqrt(atan(add(sin(asin(sqrt(p_density_carrington_3))), speed_1d_2))))))))'\n",
    "# func = gp.compile(expr = expr, pset = pset)\n",
    "# predicted = [func(*slow_wind.iloc[i]) for i in range(len(slow_wind))]\n",
    "# forec = [forecast.iloc[i] for i in range(len(slow_wind))]\n",
    "# errors = [abs(i-j) for i,j in zip(predicted, forec)]\n",
    "# baseline = 24.92852089\n",
    "# errors = pd.DataFrame(errors, columns=['errors'])\n",
    "# bad_error = errors.loc[errors['errors']>baseline]\n",
    "# good_error = errors.loc[errors['errors']<baseline]\n",
    "# plt.hist(bad_error, color = 'r', label = f'Error > baseline: {len(bad_error)}', bins= int((bad_error.max()-bad_error.min())/5))\n",
    "# plt.hist(good_error, color = 'g', label = f'Error < baseline: {len(good_error)}', bins= int((good_error.max()-good_error.min())/5))\n",
    "# plt.legend()\n",
    "# plt.title('Distribution plot of errors')\n",
    "# plt.show()"
   ]
  }
 ],
 "metadata": {
  "kernelspec": {
   "display_name": "Python 3 (ipykernel)",
   "language": "python",
   "name": "python3"
  },
  "language_info": {
   "codemirror_mode": {
    "name": "ipython",
    "version": 3
   },
   "file_extension": ".py",
   "mimetype": "text/x-python",
   "name": "python",
   "nbconvert_exporter": "python",
   "pygments_lexer": "ipython3",
   "version": "3.10.5"
  }
 },
 "nbformat": 4,
 "nbformat_minor": 5
}

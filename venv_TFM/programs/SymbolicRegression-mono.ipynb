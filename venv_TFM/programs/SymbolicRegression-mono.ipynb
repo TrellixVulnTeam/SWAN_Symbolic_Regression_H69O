{
 "cells": [
  {
   "cell_type": "markdown",
   "id": "fb14774a",
   "metadata": {},
   "source": [
    "# Symbolic Regression mono-objective"
   ]
  },
  {
   "cell_type": "markdown",
   "id": "1963ca1d",
   "metadata": {},
   "source": [
    "#### 1. Libraries importation"
   ]
  },
  {
   "cell_type": "code",
   "execution_count": 1,
   "id": "130ac64e",
   "metadata": {},
   "outputs": [],
   "source": [
    "import math\n",
    "import random\n",
    "import csv\n",
    "import numpy\n",
    "import operator\n",
    "import matplotlib.pyplot as plt\n",
    "from deap import algorithms, base, creator , tools, gp"
   ]
  },
  {
   "cell_type": "markdown",
   "id": "934c1d62",
   "metadata": {},
   "source": [
    "#### 2. Defining primitive set"
   ]
  },
  {
   "cell_type": "code",
   "execution_count": 2,
   "id": "93f2d09d",
   "metadata": {},
   "outputs": [],
   "source": [
    "# Define new functions\n",
    "def protectedDiv(left, right):\n",
    "    try:\n",
    "        return left / right\n",
    "    except ZeroDivisionError:\n",
    "        return 1\n",
    "\n",
    "#Second argument = number of variables in problem (this case, 'x')\n",
    "pset = gp.PrimitiveSet(\"MAIN\", 1)\n",
    "#Second argument = arity\n",
    "pset.addPrimitive(operator.add, 2)\n",
    "pset.addPrimitive(operator.sub, 2)\n",
    "pset.addPrimitive(operator.mul, 2)\n",
    "pset.addPrimitive(protectedDiv, 2)\n",
    "pset.addPrimitive(operator.neg, 1)\n",
    "pset.addPrimitive(math.cos, 1)\n",
    "pset.addPrimitive(math.sin, 1)\n",
    "\n",
    "\n",
    "pset.addEphemeralConstant(\"rand101\", lambda: random.randint(-10,10))\n",
    "pset.renameArguments(ARG0='x')"
   ]
  },
  {
   "cell_type": "markdown",
   "id": "d1a7e191",
   "metadata": {},
   "source": [
    "#### 3. Parameters definition"
   ]
  },
  {
   "cell_type": "code",
   "execution_count": 3,
   "id": "628f9c61",
   "metadata": {
    "scrolled": false
   },
   "outputs": [],
   "source": [
    "#Defining fitness class\n",
    "creator.create(\"FitnessMin\", base.Fitness, weights=(-1,))\n",
    "#Defining individuals shape and associatinf fitness attribute\n",
    "creator.create(\"Individual\", gp.PrimitiveTree, fitness=creator.FitnessMin)\n",
    "\n",
    "#Creating toolbox to register: population creation, evaluation function, selection mecanism\n",
    "#and genetic operators\n",
    "toolbox = base.Toolbox()\n",
    "toolbox.register(\"expr\", gp.genHalfAndHalf, pset=pset, min_=1, max_=2)\n",
    "toolbox.register(\"individual\", tools.initIterate, creator.Individual, toolbox.expr)\n",
    "toolbox.register(\"population\", tools.initRepeat, list, toolbox.individual)\n",
    "toolbox.register(\"compile\", gp.compile, pset=pset)\n",
    "\n",
    "def evalSymbReg(individual, points):\n",
    "    # Transform the tree expression in a callable function\n",
    "    func = toolbox.compile(expr=individual)\n",
    "    # Evaluate the mean squared error between the expression\n",
    "    # and the real function : x**4 + x**3 + x**2 + x\n",
    "    #sqerrors = ((func(x) - x**4 - x**3 - x**2 - x )**2 for x in points)\n",
    "    sqerrors = ((func(x) - (math.sin(x**2))**2 - math.sin(x) - (math.cos(x**2))**2 - math.cos(x) - x**3 - 2*x**2 - 4 )**2 for x in points)\n",
    "    return math.fsum(sqerrors) / len(points),\n",
    "\n",
    "toolbox.register(\"evaluate\", evalSymbReg, points=[x for x in range(-100,100)])\n",
    "toolbox.register(\"select\", tools.selTournament, tournsize=3)\n",
    "toolbox.register(\"mate\", gp.cxOnePoint)\n",
    "toolbox.register(\"expr_mut\", gp.genFull, min_=0, max_=2)\n",
    "toolbox.register(\"mutate\", gp.mutUniform, expr=toolbox.expr_mut, pset=pset)\n",
    "\n",
    "toolbox.decorate(\"mate\", gp.staticLimit(key=operator.attrgetter(\"height\"), max_value=17))\n",
    "toolbox.decorate(\"mutate\", gp.staticLimit(key=operator.attrgetter(\"height\"), max_value=17))"
   ]
  },
  {
   "cell_type": "markdown",
   "id": "6e83c5c2",
   "metadata": {},
   "source": [
    "#### 4. Algorithm initialization"
   ]
  },
  {
   "cell_type": "code",
   "execution_count": 4,
   "id": "6e007613",
   "metadata": {},
   "outputs": [
    {
     "name": "stderr",
     "output_type": "stream",
     "text": [
      "100%|██████████████████████████████████████████████████████████████████████████████████| 10/10 [00:00<00:00, 63.44it/s]"
     ]
    },
    {
     "name": "stdout",
     "output_type": "stream",
     "text": [
      "Entering 1th generation\n",
      "Entering 2th generation\n",
      "Entering 3th generation\n",
      "Entering 4th generation\n",
      "Entering 5th generation\n",
      "Entering 6th generation\n",
      "Entering 7th generation\n",
      "Entering 8th generation\n",
      "Entering 9th generation\n",
      "Entering 10th generation\n"
     ]
    },
    {
     "name": "stderr",
     "output_type": "stream",
     "text": [
      "\n"
     ]
    },
    {
     "data": {
      "text/html": [
       "<div>\n",
       "<style scoped>\n",
       "    .dataframe tbody tr th:only-of-type {\n",
       "        vertical-align: middle;\n",
       "    }\n",
       "\n",
       "    .dataframe tbody tr th {\n",
       "        vertical-align: top;\n",
       "    }\n",
       "\n",
       "    .dataframe thead th {\n",
       "        text-align: right;\n",
       "    }\n",
       "</style>\n",
       "<table border=\"1\" class=\"dataframe\">\n",
       "  <thead>\n",
       "    <tr style=\"text-align: right;\">\n",
       "      <th></th>\n",
       "      <th>mse_avg</th>\n",
       "      <th>mse_std</th>\n",
       "      <th>mse_min</th>\n",
       "      <th>mse_max</th>\n",
       "      <th>mse_gen</th>\n",
       "      <th>mse_nevals</th>\n",
       "      <th>size_avg</th>\n",
       "      <th>size_std</th>\n",
       "      <th>size_min</th>\n",
       "      <th>size_max</th>\n",
       "      <th>size_gen</th>\n",
       "      <th>size_nevals</th>\n",
       "    </tr>\n",
       "  </thead>\n",
       "  <tbody>\n",
       "    <tr>\n",
       "      <th>0</th>\n",
       "      <td>1.427472e+11</td>\n",
       "      <td>9.618363e+07</td>\n",
       "      <td>1.424676e+11</td>\n",
       "      <td>1.427872e+11</td>\n",
       "      <td>1.0</td>\n",
       "      <td>9.0</td>\n",
       "      <td>4.8</td>\n",
       "      <td>2.181742</td>\n",
       "      <td>2.0</td>\n",
       "      <td>9.0</td>\n",
       "      <td>1.0</td>\n",
       "      <td>9.0</td>\n",
       "    </tr>\n",
       "    <tr>\n",
       "      <th>1</th>\n",
       "      <td>1.428073e+11</td>\n",
       "      <td>2.777664e+08</td>\n",
       "      <td>1.423078e+11</td>\n",
       "      <td>1.432675e+11</td>\n",
       "      <td>2.0</td>\n",
       "      <td>9.0</td>\n",
       "      <td>4.7</td>\n",
       "      <td>1.676305</td>\n",
       "      <td>3.0</td>\n",
       "      <td>8.0</td>\n",
       "      <td>2.0</td>\n",
       "      <td>9.0</td>\n",
       "    </tr>\n",
       "    <tr>\n",
       "      <th>2</th>\n",
       "      <td>1.426919e+11</td>\n",
       "      <td>1.006733e+08</td>\n",
       "      <td>1.425473e+11</td>\n",
       "      <td>1.428271e+11</td>\n",
       "      <td>3.0</td>\n",
       "      <td>9.0</td>\n",
       "      <td>4.9</td>\n",
       "      <td>2.118962</td>\n",
       "      <td>1.0</td>\n",
       "      <td>9.0</td>\n",
       "      <td>3.0</td>\n",
       "      <td>9.0</td>\n",
       "    </tr>\n",
       "    <tr>\n",
       "      <th>3</th>\n",
       "      <td>1.426924e+11</td>\n",
       "      <td>1.043083e+08</td>\n",
       "      <td>1.425474e+11</td>\n",
       "      <td>1.427930e+11</td>\n",
       "      <td>4.0</td>\n",
       "      <td>9.0</td>\n",
       "      <td>5.2</td>\n",
       "      <td>1.469694</td>\n",
       "      <td>3.0</td>\n",
       "      <td>8.0</td>\n",
       "      <td>4.0</td>\n",
       "      <td>9.0</td>\n",
       "    </tr>\n",
       "    <tr>\n",
       "      <th>4</th>\n",
       "      <td>1.425589e+11</td>\n",
       "      <td>1.490829e+08</td>\n",
       "      <td>1.423078e+11</td>\n",
       "      <td>1.427870e+11</td>\n",
       "      <td>5.0</td>\n",
       "      <td>8.0</td>\n",
       "      <td>6.1</td>\n",
       "      <td>1.135782</td>\n",
       "      <td>5.0</td>\n",
       "      <td>9.0</td>\n",
       "      <td>5.0</td>\n",
       "      <td>8.0</td>\n",
       "    </tr>\n",
       "    <tr>\n",
       "      <th>5</th>\n",
       "      <td>1.425249e+11</td>\n",
       "      <td>2.273919e+08</td>\n",
       "      <td>1.420685e+11</td>\n",
       "      <td>1.427926e+11</td>\n",
       "      <td>6.0</td>\n",
       "      <td>8.0</td>\n",
       "      <td>6.3</td>\n",
       "      <td>1.846619</td>\n",
       "      <td>3.0</td>\n",
       "      <td>9.0</td>\n",
       "      <td>6.0</td>\n",
       "      <td>8.0</td>\n",
       "    </tr>\n",
       "    <tr>\n",
       "      <th>6</th>\n",
       "      <td>1.424892e+11</td>\n",
       "      <td>2.126093e+08</td>\n",
       "      <td>1.420685e+11</td>\n",
       "      <td>1.427930e+11</td>\n",
       "      <td>7.0</td>\n",
       "      <td>10.0</td>\n",
       "      <td>5.7</td>\n",
       "      <td>1.345362</td>\n",
       "      <td>3.0</td>\n",
       "      <td>7.0</td>\n",
       "      <td>7.0</td>\n",
       "      <td>10.0</td>\n",
       "    </tr>\n",
       "    <tr>\n",
       "      <th>7</th>\n",
       "      <td>1.424077e+11</td>\n",
       "      <td>2.889635e+08</td>\n",
       "      <td>1.418691e+11</td>\n",
       "      <td>1.428329e+11</td>\n",
       "      <td>8.0</td>\n",
       "      <td>10.0</td>\n",
       "      <td>6.9</td>\n",
       "      <td>1.972308</td>\n",
       "      <td>5.0</td>\n",
       "      <td>11.0</td>\n",
       "      <td>8.0</td>\n",
       "      <td>10.0</td>\n",
       "    </tr>\n",
       "    <tr>\n",
       "      <th>8</th>\n",
       "      <td>1.421763e+11</td>\n",
       "      <td>3.685072e+08</td>\n",
       "      <td>1.415905e+11</td>\n",
       "      <td>1.427869e+11</td>\n",
       "      <td>9.0</td>\n",
       "      <td>8.0</td>\n",
       "      <td>8.8</td>\n",
       "      <td>2.441311</td>\n",
       "      <td>5.0</td>\n",
       "      <td>11.0</td>\n",
       "      <td>9.0</td>\n",
       "      <td>8.0</td>\n",
       "    </tr>\n",
       "    <tr>\n",
       "      <th>9</th>\n",
       "      <td>1.416862e+11</td>\n",
       "      <td>3.451418e+08</td>\n",
       "      <td>1.409149e+11</td>\n",
       "      <td>1.423078e+11</td>\n",
       "      <td>10.0</td>\n",
       "      <td>9.0</td>\n",
       "      <td>11.8</td>\n",
       "      <td>3.487119</td>\n",
       "      <td>5.0</td>\n",
       "      <td>19.0</td>\n",
       "      <td>10.0</td>\n",
       "      <td>9.0</td>\n",
       "    </tr>\n",
       "  </tbody>\n",
       "</table>\n",
       "</div>"
      ],
      "text/plain": [
       "        mse_avg       mse_std       mse_min       mse_max  mse_gen  \\\n",
       "0  1.427472e+11  9.618363e+07  1.424676e+11  1.427872e+11      1.0   \n",
       "1  1.428073e+11  2.777664e+08  1.423078e+11  1.432675e+11      2.0   \n",
       "2  1.426919e+11  1.006733e+08  1.425473e+11  1.428271e+11      3.0   \n",
       "3  1.426924e+11  1.043083e+08  1.425474e+11  1.427930e+11      4.0   \n",
       "4  1.425589e+11  1.490829e+08  1.423078e+11  1.427870e+11      5.0   \n",
       "5  1.425249e+11  2.273919e+08  1.420685e+11  1.427926e+11      6.0   \n",
       "6  1.424892e+11  2.126093e+08  1.420685e+11  1.427930e+11      7.0   \n",
       "7  1.424077e+11  2.889635e+08  1.418691e+11  1.428329e+11      8.0   \n",
       "8  1.421763e+11  3.685072e+08  1.415905e+11  1.427869e+11      9.0   \n",
       "9  1.416862e+11  3.451418e+08  1.409149e+11  1.423078e+11     10.0   \n",
       "\n",
       "   mse_nevals  size_avg  size_std  size_min  size_max  size_gen  size_nevals  \n",
       "0         9.0       4.8  2.181742       2.0       9.0       1.0          9.0  \n",
       "1         9.0       4.7  1.676305       3.0       8.0       2.0          9.0  \n",
       "2         9.0       4.9  2.118962       1.0       9.0       3.0          9.0  \n",
       "3         9.0       5.2  1.469694       3.0       8.0       4.0          9.0  \n",
       "4         8.0       6.1  1.135782       5.0       9.0       5.0          8.0  \n",
       "5         8.0       6.3  1.846619       3.0       9.0       6.0          8.0  \n",
       "6        10.0       5.7  1.345362       3.0       7.0       7.0         10.0  \n",
       "7        10.0       6.9  1.972308       5.0      11.0       8.0         10.0  \n",
       "8         8.0       8.8  2.441311       5.0      11.0       9.0          8.0  \n",
       "9         9.0      11.8  3.487119       5.0      19.0      10.0          9.0  "
      ]
     },
     "metadata": {},
     "output_type": "display_data"
    },
    {
     "name": "stdout",
     "output_type": "stream",
     "text": [
      "Algorithm execution took 0.22624707221984863 s\n"
     ]
    }
   ],
   "source": [
    "def main():\n",
    "    random.seed(318)\n",
    "\n",
    "    pop = toolbox.population(n=10)\n",
    "    hof = tools.HallOfFame(1)\n",
    "\n",
    "    stats_fit_mse = tools.Statistics(lambda ind: ind.fitness.values)\n",
    "    stats_size = tools.Statistics(len)\n",
    "    mstats = tools.MultiStatistics(mse=stats_fit_mse, size=stats_size)\n",
    "    mstats.register(\"avg\", numpy.mean)\n",
    "    mstats.register(\"std\", numpy.std)\n",
    "    mstats.register(\"min\", numpy.min)\n",
    "    mstats.register(\"max\", numpy.max)\n",
    "\n",
    "    pop, log, hof = algorithms.eaSimpleOr(pop, toolbox, .8, .1, 10, stats=mstats,\n",
    "                                   halloffame=hof, verbose=True)\n",
    "    return pop, log, hof\n",
    "\n",
    "if __name__ == \"__main__\":\n",
    "    pop, log, hof = main()"
   ]
  },
  {
   "cell_type": "markdown",
   "id": "79d33241",
   "metadata": {},
   "source": [
    "### 5. Simplifying resultant equation"
   ]
  },
  {
   "cell_type": "code",
   "execution_count": 5,
   "id": "e36561bd",
   "metadata": {},
   "outputs": [
    {
     "name": "stdout",
     "output_type": "stream",
     "text": [
      "original: mul(x, add(add(6, add(add(6, 6), 6)), add(add(6, add(add(6, x), 6)), 6)))\n",
      "simplified: x*(x + 48)\n"
     ]
    }
   ],
   "source": [
    "from sympy import sympify, sin, cos\n",
    "def protectedDiv(left, right):\n",
    "    try:\n",
    "        return left / right\n",
    "    except:\n",
    "        return 1\n",
    "locals = {\n",
    "    'sub': lambda x, y : x - y,\n",
    "    'protectedDiv': protectedDiv,\n",
    "    'mul': lambda x, y : x*y,\n",
    "    'add': lambda x, y : x + y,\n",
    "    'neg': lambda x    : -x,\n",
    "    'pow': lambda x, y : x**y\n",
    "}\n",
    "locals = {\n",
    "    'sub': operator.sub,\n",
    "    'protectedDiv': protectedDiv,\n",
    "    'mul': operator.mul,\n",
    "    'add': operator.add,\n",
    "    'neg': operator.neg,\n",
    "    'pow': lambda x, y : x**y\n",
    "}\n",
    "ind = hof.__getitem__(0).__str__()\n",
    "print(f'original: {ind}')\n",
    "expr = sympify(ind , locals=locals)\n",
    "print(f'simplified: {expr}')\n"
   ]
  },
  {
   "cell_type": "code",
   "execution_count": 16,
   "id": "94a68d20",
   "metadata": {},
   "outputs": [
    {
     "ename": "AttributeError",
     "evalue": "'Individual' object has no attribute 'compile'",
     "output_type": "error",
     "traceback": [
      "\u001b[1;31m---------------------------------------------------------------------------\u001b[0m",
      "\u001b[1;31mAttributeError\u001b[0m                            Traceback (most recent call last)",
      "Input \u001b[1;32mIn [16]\u001b[0m, in \u001b[0;36m<cell line: 1>\u001b[1;34m()\u001b[0m\n\u001b[1;32m----> 1\u001b[0m \u001b[43mhof\u001b[49m\u001b[38;5;241;43m.\u001b[39;49m\u001b[38;5;21;43m__getitem__\u001b[39;49m\u001b[43m(\u001b[49m\u001b[38;5;241;43m0\u001b[39;49m\u001b[43m)\u001b[49m\u001b[38;5;241;43m.\u001b[39;49m\u001b[43mcompile\u001b[49m(\u001b[38;5;241m3\u001b[39m)\n",
      "\u001b[1;31mAttributeError\u001b[0m: 'Individual' object has no attribute 'compile'"
     ]
    }
   ],
   "source": [
    "hof.__getitem__(0).compile(3)"
   ]
  },
  {
   "cell_type": "code",
   "execution_count": 7,
   "id": "8fce26f5",
   "metadata": {},
   "outputs": [
    {
     "data": {
      "text/plain": [
       "<function <lambda>(x)>"
      ]
     },
     "execution_count": 7,
     "metadata": {},
     "output_type": "execute_result"
    }
   ],
   "source": [
    "hoho"
   ]
  },
  {
   "cell_type": "markdown",
   "id": "7565e213",
   "metadata": {},
   "source": [
    "### 6. Graphs"
   ]
  },
  {
   "cell_type": "code",
   "execution_count": 8,
   "id": "13ae3859",
   "metadata": {},
   "outputs": [
    {
     "data": {
      "text/plain": [
       "<matplotlib.legend.Legend at 0x28183f96cb0>"
      ]
     },
     "execution_count": 8,
     "metadata": {},
     "output_type": "execute_result"
    },
    {
     "data": {
      "image/png": "[encoded data removed]",
      "text/plain": [
       "<Figure size 432x288 with 1 Axes>"
      ]
     },
     "metadata": {
      "needs_background": "light"
     },
     "output_type": "display_data"
    }
   ],
   "source": [
    "fig, ax = plt.subplots()\n",
    "original = lambda x: (math.sin(x**2))**2 + math.sin(x) + (math.cos(x**2))**2 + math.cos(x) + x**3 + 2*x**2 + 4\n",
    "ax.plot(numpy.linspace(-100,100,100), [original(x) for x in numpy.linspace(-100,100,100)], color = 'r', marker = 'o', label='original')\n",
    "aprox = lambda x: toolbox.compile(hof.__getitem__(0))(x)\n",
    "ax.plot(numpy.linspace(-100,100,100), [aprox(x) for x in numpy.linspace(-100,100,100)], color = 'b', marker='v', label='aproximation')\n",
    "plt.legend()"
   ]
  },
  {
   "cell_type": "code",
   "execution_count": 9,
   "id": "c06a2b0d",
   "metadata": {},
   "outputs": [
    {
     "data": {
      "text/plain": [
       "[<deap.gp.Primitive at 0x28182487790>,\n",
       " <deap.gp.Terminal at 0x2818249b400>,\n",
       " <deap.gp.Primitive at 0x28182487600>,\n",
       " <deap.gp.Primitive at 0x28182487600>,\n",
       " <deap.gp.rand101 at 0x281824aebb0>,\n",
       " <deap.gp.Primitive at 0x28182487600>,\n",
       " <deap.gp.Primitive at 0x28182487600>,\n",
       " <deap.gp.rand101 at 0x281824aebb0>,\n",
       " <deap.gp.rand101 at 0x281824aebb0>,\n",
       " <deap.gp.rand101 at 0x281824aebb0>,\n",
       " <deap.gp.Primitive at 0x28182487600>,\n",
       " <deap.gp.Primitive at 0x28182487600>,\n",
       " <deap.gp.rand101 at 0x281824aebb0>,\n",
       " <deap.gp.Primitive at 0x28182487600>,\n",
       " <deap.gp.Primitive at 0x28182487600>,\n",
       " <deap.gp.rand101 at 0x281824aebb0>,\n",
       " <deap.gp.Terminal at 0x2818249b400>,\n",
       " <deap.gp.rand101 at 0x281824aebb0>,\n",
       " <deap.gp.rand101 at 0x281824aebb0>]"
      ]
     },
     "execution_count": 9,
     "metadata": {},
     "output_type": "execute_result"
    }
   ],
   "source": [
    "hof.__getitem__(0)"
   ]
  },
  {
   "cell_type": "code",
   "execution_count": 10,
   "id": "3bca8454",
   "metadata": {},
   "outputs": [
    {
     "data": {
      "image/png": "[encoded data removed]",
      "text/plain": [
       "<Figure size 432x288 with 1 Axes>"
      ]
     },
     "metadata": {},
     "output_type": "display_data"
    }
   ],
   "source": [
    "import matplotlib.pyplot as plt\n",
    "import networkx as nx\n",
    "nodes, edges, labels = gp.graph(hof.__getitem__(0))\n",
    "\n",
    "g = nx.Graph()\n",
    "g.add_nodes_from(nodes)\n",
    "g.add_edges_from(edges)\n",
    "pos=nx.spring_layout(g)\n",
    "\n",
    "nx.draw_networkx_nodes(g, pos)\n",
    "nx.draw_networkx_edges(g, pos)\n",
    "nx.draw_networkx_labels(g, pos, labels)\n",
    "\n",
    "plt.title(label = 'Best individual')\n",
    "plt.show()"
   ]
  },
  {
   "cell_type": "code",
   "execution_count": 11,
   "id": "f3ed4748",
   "metadata": {},
   "outputs": [
    {
     "data": {
      "text/plain": [
       "'protectedDiv(x, x)'"
      ]
     },
     "execution_count": 11,
     "metadata": {},
     "output_type": "execute_result"
    }
   ],
   "source": [
    "expr = gp.genFull(pset, min_=1, max_=3)\n",
    "tree = gp.PrimitiveTree(expr)\n",
    "str(tree)"
   ]
  },
  {
   "cell_type": "code",
   "execution_count": 12,
   "id": "4970dc9a",
   "metadata": {},
   "outputs": [
    {
     "data": {
      "text/plain": [
       "[<deap.gp.Primitive at 0x281824877e0>,\n",
       " <deap.gp.Terminal at 0x2818249b400>,\n",
       " <deap.gp.Terminal at 0x2818249b400>]"
      ]
     },
     "execution_count": 12,
     "metadata": {},
     "output_type": "execute_result"
    }
   ],
   "source": [
    "expr"
   ]
  },
  {
   "cell_type": "code",
   "execution_count": 13,
   "id": "e67b7ca8",
   "metadata": {},
   "outputs": [
    {
     "data": {
      "text/plain": [
       "[<deap.gp.Primitive at 0x281824877e0>,\n",
       " <deap.gp.Terminal at 0x2818249b400>,\n",
       " <deap.gp.Terminal at 0x2818249b400>]"
      ]
     },
     "execution_count": 13,
     "metadata": {},
     "output_type": "execute_result"
    }
   ],
   "source": [
    "tree"
   ]
  },
  {
   "cell_type": "code",
   "execution_count": null,
   "id": "507b0d9d",
   "metadata": {},
   "outputs": [],
   "source": []
  }
 ],
 "metadata": {
  "kernelspec": {
   "display_name": "Python 3 (ipykernel)",
   "language": "python",
   "name": "python3"
  },
  "language_info": {
   "codemirror_mode": {
    "name": "ipython",
    "version": 3
   },
   "file_extension": ".py",
   "mimetype": "text/x-python",
   "name": "python",
   "nbconvert_exporter": "python",
   "pygments_lexer": "ipython3",
   "version": "3.10.5"
  }
 },
 "nbformat": 4,
 "nbformat_minor": 5
}

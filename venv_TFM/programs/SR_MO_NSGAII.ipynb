{
 "cells": [
  {
   "cell_type": "markdown",
   "id": "f6aacbaa",
   "metadata": {},
   "source": [
    "# Symbolic Regression multi-objective. NSGA II"
   ]
  },
  {
   "cell_type": "markdown",
   "id": "07d7ce29",
   "metadata": {},
   "source": [
    "#### 1. Libraries importation"
   ]
  },
  {
   "cell_type": "code",
   "execution_count": 1,
   "id": "3e8a7ae5",
   "metadata": {},
   "outputs": [],
   "source": [
    "import math\n",
    "import random\n",
    "import csv\n",
    "import numpy\n",
    "import operator\n",
    "import multiprocessing\n",
    "import numba\n",
    "from deap import algorithms, base, creator , tools, gp\n",
    "import time\n",
    "import matplotlib.pyplot as plt"
   ]
  },
  {
   "cell_type": "markdown",
   "id": "e9dfba60",
   "metadata": {},
   "source": [
    "#### 2. Defining primitive set"
   ]
  },
  {
   "cell_type": "code",
   "execution_count": 2,
   "id": "42ef6186",
   "metadata": {},
   "outputs": [],
   "source": [
    "# Define new functions\n",
    "def protectedDiv(left, right):\n",
    "    try:\n",
    "        return left / right\n",
    "    except ZeroDivisionError:\n",
    "        return 1\n",
    "\n",
    "#Second argument = number of variables in problem (this case, 'x')\n",
    "pset = gp.PrimitiveSet(\"MAIN\", 1)\n",
    "#Second argument = arity\n",
    "pset.addPrimitive(operator.add, 2)\n",
    "pset.addPrimitive(operator.sub, 2)\n",
    "pset.addPrimitive(operator.mul, 2)\n",
    "pset.addPrimitive(protectedDiv, 2)\n",
    "pset.addPrimitive(operator.neg, 1)\n",
    "pset.addPrimitive(math.cos, 1)\n",
    "pset.addPrimitive(math.sin, 1)\n",
    "pset.addEphemeralConstant(\"rand101\", lambda: random.randint(-10,10))\n",
    "pset.renameArguments(ARG0='x')"
   ]
  },
  {
   "cell_type": "markdown",
   "id": "7146b67e",
   "metadata": {},
   "source": [
    "#### 3. Parameters definition"
   ]
  },
  {
   "cell_type": "code",
   "execution_count": 3,
   "id": "628f9c61",
   "metadata": {
    "scrolled": false
   },
   "outputs": [],
   "source": [
    "creator.create(\"FitnessMin\", base.Fitness, weights=(-1,-1))\n",
    "creator.create(\"Individual\", gp.PrimitiveTree, fitness=creator.FitnessMin)\n",
    "\n",
    "toolbox = base.Toolbox()\n",
    "toolbox.register(\"expr\", gp.genHalfAndHalf, pset=pset, min_=1, max_=2)\n",
    "toolbox.register(\"individual\", tools.initIterate, creator.Individual, toolbox.expr)\n",
    "toolbox.register(\"population\", tools.initRepeat, list, toolbox.individual)\n",
    "toolbox.register(\"compile\", gp.compile, pset=pset)\n",
    "def evalSymbReg(individual, points):\n",
    "    # Transform the tree expression in a callable function\n",
    "    func = toolbox.compile(expr=individual)\n",
    "    # Evaluate the mean squared error between the expression\n",
    "    # and the real function\n",
    "    sqerrors = ((func(x) - (math.sin(x**2))**2 - math.sin(x) - (math.cos(x**2))**2 - math.cos(x) - x**3 - 2*x**2 - 4)**2 for x in points)\n",
    "    return math.fsum(sqerrors) / len(points)\n",
    "def evaluate(individual, points): \n",
    "    return evalSymbReg(individual, points), individual.height \n",
    "    \n",
    "toolbox.register(\"evaluate\", evaluate, points=[x for x in range(-100,100)])\n",
    "toolbox.register(\"select\", tools.selNSGA2)\n",
    "toolbox.register(\"mate\", gp.cxOnePoint)\n",
    "toolbox.register(\"expr_mut\", gp.genFull, min_=0, max_=2)\n",
    "toolbox.register(\"mutate\", gp.mutUniform, expr=toolbox.expr_mut, pset=pset)\n",
    "\n",
    "toolbox.decorate(\"mate\", gp.staticLimit(key=operator.attrgetter(\"height\"), max_value=17))\n",
    "toolbox.decorate(\"mutate\", gp.staticLimit(key=operator.attrgetter(\"height\"), max_value=17))"
   ]
  },
  {
   "cell_type": "markdown",
   "id": "87788cdb",
   "metadata": {},
   "source": [
    "#### 4. Algorithm initialization"
   ]
  },
  {
   "cell_type": "markdown",
   "id": "13b96ebe",
   "metadata": {},
   "source": [
    "#### 4.1. With multiprocessing"
   ]
  },
  {
   "cell_type": "code",
   "execution_count": 4,
   "id": "bc5ae2e9",
   "metadata": {},
   "outputs": [
    {
     "name": "stdout",
     "output_type": "stream",
     "text": [
      "Entering multiprocessing with 8 cores\n"
     ]
    },
    {
     "ename": "BrokenProcessPool",
     "evalue": "A process in the process pool was terminated abruptly while the future was running or pending.",
     "output_type": "error",
     "traceback": [
      "\u001b[1;31m---------------------------------------------------------------------------\u001b[0m",
      "\u001b[1;31mBrokenProcessPool\u001b[0m                         Traceback (most recent call last)",
      "Input \u001b[1;32mIn [4]\u001b[0m, in \u001b[0;36m<cell line: 21>\u001b[1;34m()\u001b[0m\n\u001b[0;32m     19\u001b[0m     \u001b[38;5;28;01mreturn\u001b[39;00m pop, log, hof, front\n\u001b[0;32m     21\u001b[0m \u001b[38;5;28;01mif\u001b[39;00m \u001b[38;5;18m__name__\u001b[39m \u001b[38;5;241m==\u001b[39m \u001b[38;5;124m\"\u001b[39m\u001b[38;5;124m__main__\u001b[39m\u001b[38;5;124m\"\u001b[39m:\n\u001b[1;32m---> 22\u001b[0m     pop, log, hof, front \u001b[38;5;241m=\u001b[39m \u001b[43mmain\u001b[49m\u001b[43m(\u001b[49m\u001b[43m)\u001b[49m\n",
      "Input \u001b[1;32mIn [4]\u001b[0m, in \u001b[0;36mmain\u001b[1;34m()\u001b[0m\n\u001b[0;32m     14\u001b[0m mstats\u001b[38;5;241m.\u001b[39mregister(\u001b[38;5;124m\"\u001b[39m\u001b[38;5;124mmin\u001b[39m\u001b[38;5;124m\"\u001b[39m, numpy\u001b[38;5;241m.\u001b[39mmin)\n\u001b[0;32m     15\u001b[0m mstats\u001b[38;5;241m.\u001b[39mregister(\u001b[38;5;124m\"\u001b[39m\u001b[38;5;124mmax\u001b[39m\u001b[38;5;124m\"\u001b[39m, numpy\u001b[38;5;241m.\u001b[39mmax)\n\u001b[1;32m---> 17\u001b[0m pop, log, hof, front \u001b[38;5;241m=\u001b[39m \u001b[43malgorithms\u001b[49m\u001b[38;5;241;43m.\u001b[39;49m\u001b[43meaSimpleOrNSGAII\u001b[49m\u001b[43m(\u001b[49m\u001b[43mpop\u001b[49m\u001b[43m,\u001b[49m\u001b[43m \u001b[49m\u001b[43mtoolbox\u001b[49m\u001b[43m,\u001b[49m\u001b[43m \u001b[49m\u001b[38;5;241;43m.8\u001b[39;49m\u001b[43m,\u001b[49m\u001b[43m \u001b[49m\u001b[38;5;241;43m.1\u001b[39;49m\u001b[43m,\u001b[49m\u001b[43m \u001b[49m\u001b[38;5;241;43m500\u001b[39;49m\u001b[43m,\u001b[49m\u001b[43m \u001b[49m\u001b[43mstats\u001b[49m\u001b[38;5;241;43m=\u001b[39;49m\u001b[43mmstats\u001b[49m\u001b[43m,\u001b[49m\n\u001b[0;32m     18\u001b[0m \u001b[43m                               \u001b[49m\u001b[43mhalloffame\u001b[49m\u001b[38;5;241;43m=\u001b[39;49m\u001b[43mhof\u001b[49m\u001b[43m,\u001b[49m\u001b[43m \u001b[49m\u001b[43mverbose\u001b[49m\u001b[38;5;241;43m=\u001b[39;49m\u001b[38;5;28;43;01mTrue\u001b[39;49;00m\u001b[43m,\u001b[49m\u001b[43m \u001b[49m\u001b[43mplot\u001b[49m\u001b[43m \u001b[49m\u001b[38;5;241;43m=\u001b[39;49m\u001b[43m \u001b[49m\u001b[38;5;28;43;01mFalse\u001b[39;49;00m\u001b[43m,\u001b[49m\u001b[43m \u001b[49m\u001b[43mmulti\u001b[49m\u001b[43m \u001b[49m\u001b[38;5;241;43m=\u001b[39;49m\u001b[43m \u001b[49m\u001b[38;5;28;43;01mTrue\u001b[39;49;00m\u001b[43m)\u001b[49m\n\u001b[0;32m     19\u001b[0m \u001b[38;5;28;01mreturn\u001b[39;00m pop, log, hof, front\n",
      "File \u001b[1;32m~\\Documents\\TFM\\venv_TFM\\lib\\site-packages\\deap\\algorithms.py:350\u001b[0m, in \u001b[0;36meaSimpleOrNSGAII\u001b[1;34m(population, toolbox, cxpb, mutpb, ngen, stats, halloffame, verbose, plot, multi)\u001b[0m\n\u001b[0;32m    348\u001b[0m                 future \u001b[38;5;241m=\u001b[39m executor\u001b[38;5;241m.\u001b[39msubmit(toolbox\u001b[38;5;241m.\u001b[39mevaluate, ind)\n\u001b[0;32m    349\u001b[0m                 futures\u001b[38;5;241m.\u001b[39mappend(future)\n\u001b[1;32m--> 350\u001b[0m             fitnesses \u001b[38;5;241m=\u001b[39m [future\u001b[38;5;241m.\u001b[39mresult() \u001b[38;5;28;01mfor\u001b[39;00m future \u001b[38;5;129;01min\u001b[39;00m futures]\n\u001b[0;32m    351\u001b[0m \u001b[38;5;66;03m#         invalid_ind_multi = cuda.to_device(invalid_ind)\u001b[39;00m\n\u001b[0;32m    352\u001b[0m \u001b[38;5;66;03m#         fitnesses = toolbox.map(toolbox.evaluate, invalid_ind_multi)\u001b[39;00m\n\u001b[0;32m    353\u001b[0m \u001b[38;5;66;03m#         del invalid_ind_multi\u001b[39;00m\n\u001b[0;32m    354\u001b[0m     \u001b[38;5;28;01melse\u001b[39;00m: \n\u001b[0;32m    355\u001b[0m         \u001b[38;5;28mprint\u001b[39m(\u001b[38;5;124m'\u001b[39m\u001b[38;5;124mEntering without multiprocessing activated\u001b[39m\u001b[38;5;124m'\u001b[39m)\n",
      "File \u001b[1;32m~\\Documents\\TFM\\venv_TFM\\lib\\site-packages\\deap\\algorithms.py:350\u001b[0m, in \u001b[0;36m<listcomp>\u001b[1;34m(.0)\u001b[0m\n\u001b[0;32m    348\u001b[0m                 future \u001b[38;5;241m=\u001b[39m executor\u001b[38;5;241m.\u001b[39msubmit(toolbox\u001b[38;5;241m.\u001b[39mevaluate, ind)\n\u001b[0;32m    349\u001b[0m                 futures\u001b[38;5;241m.\u001b[39mappend(future)\n\u001b[1;32m--> 350\u001b[0m             fitnesses \u001b[38;5;241m=\u001b[39m [\u001b[43mfuture\u001b[49m\u001b[38;5;241;43m.\u001b[39;49m\u001b[43mresult\u001b[49m\u001b[43m(\u001b[49m\u001b[43m)\u001b[49m \u001b[38;5;28;01mfor\u001b[39;00m future \u001b[38;5;129;01min\u001b[39;00m futures]\n\u001b[0;32m    351\u001b[0m \u001b[38;5;66;03m#         invalid_ind_multi = cuda.to_device(invalid_ind)\u001b[39;00m\n\u001b[0;32m    352\u001b[0m \u001b[38;5;66;03m#         fitnesses = toolbox.map(toolbox.evaluate, invalid_ind_multi)\u001b[39;00m\n\u001b[0;32m    353\u001b[0m \u001b[38;5;66;03m#         del invalid_ind_multi\u001b[39;00m\n\u001b[0;32m    354\u001b[0m     \u001b[38;5;28;01melse\u001b[39;00m: \n\u001b[0;32m    355\u001b[0m         \u001b[38;5;28mprint\u001b[39m(\u001b[38;5;124m'\u001b[39m\u001b[38;5;124mEntering without multiprocessing activated\u001b[39m\u001b[38;5;124m'\u001b[39m)\n",
      "File \u001b[1;32mC:\\Program Files\\WindowsApps\\PythonSoftwareFoundation.Python.3.10_3.10.1520.0_x64__qbz5n2kfra8p0\\lib\\concurrent\\futures\\_base.py:446\u001b[0m, in \u001b[0;36mFuture.result\u001b[1;34m(self, timeout)\u001b[0m\n\u001b[0;32m    444\u001b[0m     \u001b[38;5;28;01mraise\u001b[39;00m CancelledError()\n\u001b[0;32m    445\u001b[0m \u001b[38;5;28;01melif\u001b[39;00m \u001b[38;5;28mself\u001b[39m\u001b[38;5;241m.\u001b[39m_state \u001b[38;5;241m==\u001b[39m FINISHED:\n\u001b[1;32m--> 446\u001b[0m     \u001b[38;5;28;01mreturn\u001b[39;00m \u001b[38;5;28;43mself\u001b[39;49m\u001b[38;5;241;43m.\u001b[39;49m\u001b[43m__get_result\u001b[49m\u001b[43m(\u001b[49m\u001b[43m)\u001b[49m\n\u001b[0;32m    447\u001b[0m \u001b[38;5;28;01melse\u001b[39;00m:\n\u001b[0;32m    448\u001b[0m     \u001b[38;5;28;01mraise\u001b[39;00m \u001b[38;5;167;01mTimeoutError\u001b[39;00m()\n",
      "File \u001b[1;32mC:\\Program Files\\WindowsApps\\PythonSoftwareFoundation.Python.3.10_3.10.1520.0_x64__qbz5n2kfra8p0\\lib\\concurrent\\futures\\_base.py:391\u001b[0m, in \u001b[0;36mFuture.__get_result\u001b[1;34m(self)\u001b[0m\n\u001b[0;32m    389\u001b[0m \u001b[38;5;28;01mif\u001b[39;00m \u001b[38;5;28mself\u001b[39m\u001b[38;5;241m.\u001b[39m_exception:\n\u001b[0;32m    390\u001b[0m     \u001b[38;5;28;01mtry\u001b[39;00m:\n\u001b[1;32m--> 391\u001b[0m         \u001b[38;5;28;01mraise\u001b[39;00m \u001b[38;5;28mself\u001b[39m\u001b[38;5;241m.\u001b[39m_exception\n\u001b[0;32m    392\u001b[0m     \u001b[38;5;28;01mfinally\u001b[39;00m:\n\u001b[0;32m    393\u001b[0m         \u001b[38;5;66;03m# Break a reference cycle with the exception in self._exception\u001b[39;00m\n\u001b[0;32m    394\u001b[0m         \u001b[38;5;28mself\u001b[39m \u001b[38;5;241m=\u001b[39m \u001b[38;5;28;01mNone\u001b[39;00m\n",
      "\u001b[1;31mBrokenProcessPool\u001b[0m: A process in the process pool was terminated abruptly while the future was running or pending."
     ]
    }
   ],
   "source": [
    "def main():\n",
    "    random.seed(0)\n",
    "\n",
    "    pop = toolbox.population(n=500)\n",
    "    hof = tools.ParetoFront()\n",
    "\n",
    "    # Ver que el fitness no es el MSE, en values tiene el MSE y height\n",
    "    stats_fit_mse = tools.Statistics(lambda ind: ind.fitness.values[0])\n",
    "    stats_fit_height = tools.Statistics(lambda ind: ind.fitness.values[1])\n",
    "    stats_size = tools.Statistics(len)\n",
    "    mstats = tools.MultiStatistics(mse=stats_fit_mse, height=stats_fit_height, size=stats_size)\n",
    "    mstats.register(\"avg\", numpy.mean)\n",
    "    mstats.register(\"std\", numpy.std)\n",
    "    mstats.register(\"min\", numpy.min)\n",
    "    mstats.register(\"max\", numpy.max)\n",
    "\n",
    "    pop, log, hof, front = algorithms.eaSimpleOrNSGAII(pop, toolbox, .8, .1, 500, stats=mstats,\n",
    "                                   halloffame=hof, verbose=True, plot = False, multi = True)\n",
    "    return pop, log, hof, front\n",
    "\n",
    "if __name__ == \"__main__\":\n",
    "    pop, log, hof, front = main()"
   ]
  },
  {
   "cell_type": "markdown",
   "id": "1d429b06",
   "metadata": {},
   "source": [
    "#### 4.2 Without multiprocessing"
   ]
  },
  {
   "cell_type": "code",
   "execution_count": null,
   "id": "53751cc6",
   "metadata": {},
   "outputs": [],
   "source": [
    "# def main():\n",
    "#     random.seed(0)\n",
    "\n",
    "#     pop = toolbox.population(n=500)\n",
    "#     hof = tools.ParetoFront()\n",
    "\n",
    "#     # Ver que el fitness no es el MSE, es la combinacion de MSE y height\n",
    "#     stats_fit_mse = tools.Statistics(lambda ind: ind.fitness.values[0])\n",
    "#     stats_fit_height = tools.Statistics(lambda ind: ind.fitness.values[1])\n",
    "#     stats_size = tools.Statistics(len)\n",
    "#     mstats = tools.MultiStatistics(mse=stats_fit_mse, height=stats_fit_height, size=stats_size)\n",
    "#     mstats.register(\"avg\", numpy.mean)\n",
    "#     mstats.register(\"std\", numpy.std)\n",
    "#     mstats.register(\"min\", numpy.min)\n",
    "#     mstats.register(\"max\", numpy.max)\n",
    "\n",
    "#     pop, log, hof, front = algorithms.eaSimpleOrNSGAII(pop, toolbox, .8, .1, 500, stats=mstats,\n",
    "#                                    halloffame=hof, verbose=True, plot = False, multi = False)\n",
    "#     return pop, log, hof, front\n",
    "\n",
    "# if __name__ == \"__main__\":\n",
    "#     pop, log, hof, front = main()"
   ]
  },
  {
   "cell_type": "markdown",
   "id": "a97f2858",
   "metadata": {},
   "source": [
    "### 5. Simplifying resultant equation"
   ]
  },
  {
   "cell_type": "code",
   "execution_count": null,
   "id": "e36561bd",
   "metadata": {},
   "outputs": [],
   "source": [
    "from sympy import sympify\n",
    "\n",
    "locals = {\n",
    "    'sub': lambda x, y : x - y,\n",
    "    'protectedDiv': lambda x, y : x/y,\n",
    "    'mul': lambda x, y : x*y,\n",
    "    'add': lambda x, y : x + y,\n",
    "    'neg': lambda x    : -x,\n",
    "    'pow': lambda x, y : x**y\n",
    "    'sin': lambda x: math.sin(x)\n",
    "    'cos': lambda x: math.cos(x)\n",
    "}\n",
    "ind = hof.__getitem__(0).__str__()\n",
    "print(f'original: {ind}')\n",
    "expr = sympify(str(ind) , locals=locals)\n",
    "print(f'simplified: {expr}')"
   ]
  },
  {
   "cell_type": "markdown",
   "id": "a23def01",
   "metadata": {},
   "source": [
    "### 6. Graphs"
   ]
  },
  {
   "cell_type": "code",
   "execution_count": null,
   "id": "05be718b",
   "metadata": {},
   "outputs": [],
   "source": [
    "fig, ax = plt.subplots()\n",
    "original = lambda x: math.sin(x**2)**2 + math.sin(x) + (math.cos(x**2))**2 + math.cos(x) + x**3 + 2*x**2 + 4\n",
    "ax.plot(numpy.linspace(-100,100,100), [original(x) for x in numpy.linspace(-100,100,100)], color = 'r', marker = 'o', label='original')\n",
    "aprox = lambda x: toolbox.compile(hof.__getitem__(0))(x)\n",
    "ax.plot(numpy.linspace(-100,100,100), [aprox(x) for x in numpy.linspace(-100,100,100)], color = 'b', marker='v', label='aproximation')\n",
    "plt.legend()"
   ]
  },
  {
   "cell_type": "markdown",
   "id": "e62ad58c",
   "metadata": {},
   "source": [
    "### 7. Pareto front"
   ]
  },
  {
   "cell_type": "code",
   "execution_count": null,
   "id": "e573a8cc",
   "metadata": {},
   "outputs": [],
   "source": [
    "sacarMSE = lambda x: x.fitness.values[0]\n",
    "sacarSIZE = lambda x: x.fitness.values[1]"
   ]
  },
  {
   "cell_type": "code",
   "execution_count": null,
   "id": "be40b2e2",
   "metadata": {},
   "outputs": [],
   "source": [
    "fig, ax = plt.subplots()\n",
    "ax.plot([sacarSIZE(ind) for ind in hof.items],[sacarMSE(ind) for ind in hof.items], linestyle = 'none', marker = 'o')\n",
    "ax.set_xlabel('Size')\n",
    "ax.set_ylabel('MSE')\n",
    "ax.set_title('Pareto Front')"
   ]
  },
  {
   "cell_type": "code",
   "execution_count": null,
   "id": "72b14c6b",
   "metadata": {},
   "outputs": [],
   "source": [
    "#This code loops through the different individuals and shows their equation\n",
    "# for ind in pop: \n",
    "#     ind = ind.__str__()\n",
    "#     print(f'original: {ind}')\n",
    "#     expr = sympify(str(ind) , locals=locals)\n",
    "#     print(f'simplified: {expr}')\n",
    "#     input()"
   ]
  }
 ],
 "metadata": {
  "kernelspec": {
   "display_name": "Python 3 (ipykernel)",
   "language": "python",
   "name": "python3"
  },
  "language_info": {
   "codemirror_mode": {
    "name": "ipython",
    "version": 3
   },
   "file_extension": ".py",
   "mimetype": "text/x-python",
   "name": "python",
   "nbconvert_exporter": "python",
   "pygments_lexer": "ipython3",
   "version": "3.10.5"
  }
 },
 "nbformat": 4,
 "nbformat_minor": 5
}

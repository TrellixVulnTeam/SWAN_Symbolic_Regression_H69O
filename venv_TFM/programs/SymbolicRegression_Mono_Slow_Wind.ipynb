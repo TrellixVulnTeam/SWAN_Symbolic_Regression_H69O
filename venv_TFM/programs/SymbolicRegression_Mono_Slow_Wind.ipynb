{
 "cells": [
  {
   "cell_type": "markdown",
   "id": "fb14774a",
   "metadata": {},
   "source": [
    "# Symbolic regression monobjective for slow solar wind"
   ]
  },
  {
   "cell_type": "markdown",
   "id": "1963ca1d",
   "metadata": {},
   "source": [
    "#### 1. Libraries importation"
   ]
  },
  {
   "cell_type": "code",
   "execution_count": 2,
   "id": "130ac64e",
   "metadata": {},
   "outputs": [],
   "source": [
    "import math\n",
    "from tqdm import tqdm\n",
    "import random\n",
    "import csv\n",
    "import datetime\n",
    "import time\n",
    "import numpy\n",
    "import operator\n",
    "import matplotlib.pyplot as plt\n",
    "import multiprocessing\n",
    "from concurrent.futures import ProcessPoolExecutor, ThreadPoolExecutor\n",
    "import pandas as pd\n",
    "from deap import algorithms, base, creator , tools, gp\n",
    "from sympy import sympify, sin, cos, simplify\n",
    "import operations\n",
    "import evaluators"
   ]
  },
  {
   "cell_type": "markdown",
   "id": "46bc9e6f",
   "metadata": {},
   "source": [
    "#### 2. CSV importation and analysis"
   ]
  },
  {
   "cell_type": "code",
   "execution_count": 21,
   "id": "8480873c",
   "metadata": {},
   "outputs": [],
   "source": [
    "slow_wind = pd.read_csv(r'C:\\Users\\Christian Mariscal\\Documents\\TFM\\venv_TFM\\gp_data\\slow_model_io.csv', delimiter = ',')\n",
    "forecast = slow_wind['forecast']\n",
    "slow_wind = slow_wind.drop(['Unnamed: 0', 'forecast'], axis = 1)"
   ]
  },
  {
   "cell_type": "code",
   "execution_count": 3,
   "id": "f1c91661",
   "metadata": {},
   "outputs": [],
   "source": [
    "#slow_wind.head()"
   ]
  },
  {
   "cell_type": "code",
   "execution_count": 4,
   "id": "c21f8bea",
   "metadata": {},
   "outputs": [],
   "source": [
    "#forecast.head()"
   ]
  },
  {
   "cell_type": "code",
   "execution_count": 22,
   "id": "5c36aea7",
   "metadata": {},
   "outputs": [
    {
     "data": {
      "text/html": [
       "<div>\n",
       "<style scoped>\n",
       "    .dataframe tbody tr th:only-of-type {\n",
       "        vertical-align: middle;\n",
       "    }\n",
       "\n",
       "    .dataframe tbody tr th {\n",
       "        vertical-align: top;\n",
       "    }\n",
       "\n",
       "    .dataframe thead th {\n",
       "        text-align: right;\n",
       "    }\n",
       "</style>\n",
       "<table border=\"1\" class=\"dataframe\">\n",
       "  <thead>\n",
       "    <tr style=\"text-align: right;\">\n",
       "      <th></th>\n",
       "      <th>Bt_carrington_4</th>\n",
       "      <th>Bx_carrington_4</th>\n",
       "      <th>By_carrington_4</th>\n",
       "      <th>Bz_carrington_4</th>\n",
       "      <th>speed_carrington_4</th>\n",
       "      <th>p_density_carrington_4</th>\n",
       "      <th>temperature_carrington_4</th>\n",
       "      <th>Bt_1d_4</th>\n",
       "      <th>Bx_1d_4</th>\n",
       "      <th>By_1d_4</th>\n",
       "      <th>...</th>\n",
       "      <th>speed_carrington_1</th>\n",
       "      <th>p_density_carrington_1</th>\n",
       "      <th>temperature_carrington_1</th>\n",
       "      <th>Bt_1d_1</th>\n",
       "      <th>Bx_1d_1</th>\n",
       "      <th>By_1d_1</th>\n",
       "      <th>Bz_1d_1</th>\n",
       "      <th>speed_1d_1</th>\n",
       "      <th>p_density_1d_1</th>\n",
       "      <th>temperature_1d_1</th>\n",
       "    </tr>\n",
       "  </thead>\n",
       "  <tbody>\n",
       "    <tr>\n",
       "      <th>count</th>\n",
       "      <td>3177.000000</td>\n",
       "      <td>3177.000000</td>\n",
       "      <td>3177.000000</td>\n",
       "      <td>3177.000000</td>\n",
       "      <td>3177.000000</td>\n",
       "      <td>3177.000000</td>\n",
       "      <td>3177.000000</td>\n",
       "      <td>3177.000000</td>\n",
       "      <td>3177.000000</td>\n",
       "      <td>3177.000000</td>\n",
       "      <td>...</td>\n",
       "      <td>3177.000000</td>\n",
       "      <td>3177.000000</td>\n",
       "      <td>3177.000000</td>\n",
       "      <td>3177.000000</td>\n",
       "      <td>3177.000000</td>\n",
       "      <td>3177.000000</td>\n",
       "      <td>3177.000000</td>\n",
       "      <td>3177.000000</td>\n",
       "      <td>3177.000000</td>\n",
       "      <td>3177.000000</td>\n",
       "    </tr>\n",
       "    <tr>\n",
       "      <th>mean</th>\n",
       "      <td>5.220436</td>\n",
       "      <td>0.064686</td>\n",
       "      <td>-0.096858</td>\n",
       "      <td>-0.015642</td>\n",
       "      <td>390.687629</td>\n",
       "      <td>6.761182</td>\n",
       "      <td>70080.161922</td>\n",
       "      <td>5.104943</td>\n",
       "      <td>0.081620</td>\n",
       "      <td>-0.095475</td>\n",
       "      <td>...</td>\n",
       "      <td>407.540762</td>\n",
       "      <td>6.544147</td>\n",
       "      <td>81000.196634</td>\n",
       "      <td>4.856785</td>\n",
       "      <td>0.026615</td>\n",
       "      <td>-0.049001</td>\n",
       "      <td>0.010868</td>\n",
       "      <td>377.120876</td>\n",
       "      <td>6.501529</td>\n",
       "      <td>57023.690798</td>\n",
       "    </tr>\n",
       "    <tr>\n",
       "      <th>std</th>\n",
       "      <td>2.227037</td>\n",
       "      <td>2.233411</td>\n",
       "      <td>2.555328</td>\n",
       "      <td>1.441341</td>\n",
       "      <td>71.638030</td>\n",
       "      <td>3.680479</td>\n",
       "      <td>53943.485749</td>\n",
       "      <td>1.988581</td>\n",
       "      <td>2.268103</td>\n",
       "      <td>2.504693</td>\n",
       "      <td>...</td>\n",
       "      <td>86.187587</td>\n",
       "      <td>3.730064</td>\n",
       "      <td>61296.545822</td>\n",
       "      <td>1.898433</td>\n",
       "      <td>2.081985</td>\n",
       "      <td>2.437871</td>\n",
       "      <td>1.375768</td>\n",
       "      <td>52.239540</td>\n",
       "      <td>3.432157</td>\n",
       "      <td>33156.434956</td>\n",
       "    </tr>\n",
       "    <tr>\n",
       "      <th>min</th>\n",
       "      <td>1.647877</td>\n",
       "      <td>-9.592659</td>\n",
       "      <td>-10.856756</td>\n",
       "      <td>-11.299399</td>\n",
       "      <td>258.522174</td>\n",
       "      <td>0.244214</td>\n",
       "      <td>10338.339024</td>\n",
       "      <td>1.647877</td>\n",
       "      <td>-8.239690</td>\n",
       "      <td>-9.332319</td>\n",
       "      <td>...</td>\n",
       "      <td>258.522174</td>\n",
       "      <td>0.244214</td>\n",
       "      <td>10338.339024</td>\n",
       "      <td>1.647877</td>\n",
       "      <td>-8.239690</td>\n",
       "      <td>-10.856756</td>\n",
       "      <td>-11.299399</td>\n",
       "      <td>258.522174</td>\n",
       "      <td>0.244214</td>\n",
       "      <td>10338.339024</td>\n",
       "    </tr>\n",
       "    <tr>\n",
       "      <th>25%</th>\n",
       "      <td>3.721164</td>\n",
       "      <td>-1.646521</td>\n",
       "      <td>-1.960250</td>\n",
       "      <td>-0.567868</td>\n",
       "      <td>339.985874</td>\n",
       "      <td>4.076180</td>\n",
       "      <td>33640.266667</td>\n",
       "      <td>3.769197</td>\n",
       "      <td>-1.722411</td>\n",
       "      <td>-1.943733</td>\n",
       "      <td>...</td>\n",
       "      <td>344.002068</td>\n",
       "      <td>3.835058</td>\n",
       "      <td>37034.018349</td>\n",
       "      <td>3.617875</td>\n",
       "      <td>-1.579088</td>\n",
       "      <td>-1.849703</td>\n",
       "      <td>-0.517517</td>\n",
       "      <td>338.498085</td>\n",
       "      <td>3.967893</td>\n",
       "      <td>32522.349138</td>\n",
       "    </tr>\n",
       "    <tr>\n",
       "      <th>50%</th>\n",
       "      <td>4.674053</td>\n",
       "      <td>0.106701</td>\n",
       "      <td>-0.216942</td>\n",
       "      <td>-0.030740</td>\n",
       "      <td>375.508828</td>\n",
       "      <td>5.927317</td>\n",
       "      <td>54596.143767</td>\n",
       "      <td>4.648517</td>\n",
       "      <td>0.105235</td>\n",
       "      <td>-0.273552</td>\n",
       "      <td>...</td>\n",
       "      <td>388.109683</td>\n",
       "      <td>5.657405</td>\n",
       "      <td>62614.484501</td>\n",
       "      <td>4.458709</td>\n",
       "      <td>0.030354</td>\n",
       "      <td>-0.139336</td>\n",
       "      <td>0.003087</td>\n",
       "      <td>371.562267</td>\n",
       "      <td>5.752926</td>\n",
       "      <td>50143.747715</td>\n",
       "    </tr>\n",
       "    <tr>\n",
       "      <th>75%</th>\n",
       "      <td>6.127326</td>\n",
       "      <td>1.714542</td>\n",
       "      <td>1.753328</td>\n",
       "      <td>0.524004</td>\n",
       "      <td>425.159521</td>\n",
       "      <td>8.691359</td>\n",
       "      <td>87762.024038</td>\n",
       "      <td>5.987109</td>\n",
       "      <td>1.829367</td>\n",
       "      <td>1.780827</td>\n",
       "      <td>...</td>\n",
       "      <td>451.955211</td>\n",
       "      <td>8.488587</td>\n",
       "      <td>106218.827402</td>\n",
       "      <td>5.662033</td>\n",
       "      <td>1.587659</td>\n",
       "      <td>1.759863</td>\n",
       "      <td>0.530958</td>\n",
       "      <td>411.261679</td>\n",
       "      <td>8.344155</td>\n",
       "      <td>74882.515454</td>\n",
       "    </tr>\n",
       "    <tr>\n",
       "      <th>max</th>\n",
       "      <td>20.605603</td>\n",
       "      <td>14.119685</td>\n",
       "      <td>12.850778</td>\n",
       "      <td>11.444558</td>\n",
       "      <td>739.879339</td>\n",
       "      <td>37.717043</td>\n",
       "      <td>527426.982720</td>\n",
       "      <td>20.605603</td>\n",
       "      <td>14.119685</td>\n",
       "      <td>12.850778</td>\n",
       "      <td>...</td>\n",
       "      <td>756.381116</td>\n",
       "      <td>37.717043</td>\n",
       "      <td>575373.272103</td>\n",
       "      <td>20.501615</td>\n",
       "      <td>12.061417</td>\n",
       "      <td>12.850778</td>\n",
       "      <td>11.444558</td>\n",
       "      <td>585.311066</td>\n",
       "      <td>29.660255</td>\n",
       "      <td>445856.918191</td>\n",
       "    </tr>\n",
       "  </tbody>\n",
       "</table>\n",
       "<p>8 rows × 56 columns</p>\n",
       "</div>"
      ],
      "text/plain": [
       "       Bt_carrington_4  Bx_carrington_4  By_carrington_4  Bz_carrington_4  \\\n",
       "count      3177.000000      3177.000000      3177.000000      3177.000000   \n",
       "mean          5.220436         0.064686        -0.096858        -0.015642   \n",
       "std           2.227037         2.233411         2.555328         1.441341   \n",
       "min           1.647877        -9.592659       -10.856756       -11.299399   \n",
       "25%           3.721164        -1.646521        -1.960250        -0.567868   \n",
       "50%           4.674053         0.106701        -0.216942        -0.030740   \n",
       "75%           6.127326         1.714542         1.753328         0.524004   \n",
       "max          20.605603        14.119685        12.850778        11.444558   \n",
       "\n",
       "       speed_carrington_4  p_density_carrington_4  temperature_carrington_4  \\\n",
       "count         3177.000000             3177.000000               3177.000000   \n",
       "mean           390.687629                6.761182              70080.161922   \n",
       "std             71.638030                3.680479              53943.485749   \n",
       "min            258.522174                0.244214              10338.339024   \n",
       "25%            339.985874                4.076180              33640.266667   \n",
       "50%            375.508828                5.927317              54596.143767   \n",
       "75%            425.159521                8.691359              87762.024038   \n",
       "max            739.879339               37.717043             527426.982720   \n",
       "\n",
       "           Bt_1d_4      Bx_1d_4      By_1d_4  ...  speed_carrington_1  \\\n",
       "count  3177.000000  3177.000000  3177.000000  ...         3177.000000   \n",
       "mean      5.104943     0.081620    -0.095475  ...          407.540762   \n",
       "std       1.988581     2.268103     2.504693  ...           86.187587   \n",
       "min       1.647877    -8.239690    -9.332319  ...          258.522174   \n",
       "25%       3.769197    -1.722411    -1.943733  ...          344.002068   \n",
       "50%       4.648517     0.105235    -0.273552  ...          388.109683   \n",
       "75%       5.987109     1.829367     1.780827  ...          451.955211   \n",
       "max      20.605603    14.119685    12.850778  ...          756.381116   \n",
       "\n",
       "       p_density_carrington_1  temperature_carrington_1      Bt_1d_1  \\\n",
       "count             3177.000000               3177.000000  3177.000000   \n",
       "mean                 6.544147              81000.196634     4.856785   \n",
       "std                  3.730064              61296.545822     1.898433   \n",
       "min                  0.244214              10338.339024     1.647877   \n",
       "25%                  3.835058              37034.018349     3.617875   \n",
       "50%                  5.657405              62614.484501     4.458709   \n",
       "75%                  8.488587             106218.827402     5.662033   \n",
       "max                 37.717043             575373.272103    20.501615   \n",
       "\n",
       "           Bx_1d_1      By_1d_1      Bz_1d_1   speed_1d_1  p_density_1d_1  \\\n",
       "count  3177.000000  3177.000000  3177.000000  3177.000000     3177.000000   \n",
       "mean      0.026615    -0.049001     0.010868   377.120876        6.501529   \n",
       "std       2.081985     2.437871     1.375768    52.239540        3.432157   \n",
       "min      -8.239690   -10.856756   -11.299399   258.522174        0.244214   \n",
       "25%      -1.579088    -1.849703    -0.517517   338.498085        3.967893   \n",
       "50%       0.030354    -0.139336     0.003087   371.562267        5.752926   \n",
       "75%       1.587659     1.759863     0.530958   411.261679        8.344155   \n",
       "max      12.061417    12.850778    11.444558   585.311066       29.660255   \n",
       "\n",
       "       temperature_1d_1  \n",
       "count       3177.000000  \n",
       "mean       57023.690798  \n",
       "std        33156.434956  \n",
       "min        10338.339024  \n",
       "25%        32522.349138  \n",
       "50%        50143.747715  \n",
       "75%        74882.515454  \n",
       "max       445856.918191  \n",
       "\n",
       "[8 rows x 56 columns]"
      ]
     },
     "execution_count": 22,
     "metadata": {},
     "output_type": "execute_result"
    }
   ],
   "source": [
    "slow_wind.describe()"
   ]
  },
  {
   "cell_type": "code",
   "execution_count": 23,
   "id": "e031c95a",
   "metadata": {},
   "outputs": [
    {
     "data": {
      "text/plain": [
       "count    3177.000000\n",
       "mean      370.129375\n",
       "std        39.757616\n",
       "min       262.731249\n",
       "25%       339.009226\n",
       "50%       368.833603\n",
       "75%       400.397979\n",
       "max       449.935003\n",
       "Name: forecast, dtype: float64"
      ]
     },
     "execution_count": 23,
     "metadata": {},
     "output_type": "execute_result"
    }
   ],
   "source": [
    "forecast.describe()"
   ]
  },
  {
   "cell_type": "code",
   "execution_count": 7,
   "id": "20b26335",
   "metadata": {},
   "outputs": [],
   "source": [
    "#slow_wind.info()"
   ]
  },
  {
   "cell_type": "code",
   "execution_count": 8,
   "id": "2f475347",
   "metadata": {},
   "outputs": [],
   "source": [
    "#forecast.info()"
   ]
  },
  {
   "cell_type": "markdown",
   "id": "934c1d62",
   "metadata": {},
   "source": [
    "#### 3. Defining primitive set"
   ]
  },
  {
   "cell_type": "code",
   "execution_count": 19,
   "id": "93f2d09d",
   "metadata": {},
   "outputs": [],
   "source": [
    "#Second argument = number of variables in problem (this case, 56 vars)\n",
    "pset = gp.PrimitiveSet(\"MAIN\", 56)\n",
    "#Second argument = arity\n",
    "pset.addPrimitive(operations.add, 2)\n",
    "pset.addPrimitive(operations.sub, 2)\n",
    "pset.addPrimitive(operations.mul, 2)\n",
    "pset.addPrimitive(operations.protectedDiv, 2)\n",
    "pset.addPrimitive(operations.cos, 1)\n",
    "pset.addPrimitive(operations.sin, 1)\n",
    "pset.addPrimitive(operations.tan, 1)\n",
    "pset.addPrimitive(operations.asin, 1)\n",
    "pset.addPrimitive(operations.acos, 1)\n",
    "pset.addPrimitive(operations.atan, 1)\n",
    "pset.addPrimitive(operations.log10, 1)\n",
    "pset.addPrimitive(operations.log, 1)\n",
    "pset.addPrimitive(operations.sqrt, 1)\n",
    "pset.addPrimitive(operations.exp, 1)\n",
    "pset.addPrimitive(operations.pow, 2)\n",
    "\n",
    "pset.addEphemeralConstant(\"rand101\", lambda: random.randint(-1000,1000))\n",
    "pset.addEphemeralConstant(\"pi\", lambda: math.pi)\n",
    "pset.addEphemeralConstant(\"e\", lambda: math.e)\n",
    "\n",
    "#Renaming arguments\n",
    "renArg = dict(zip(pset.arguments, list(slow_wind.columns)))\n",
    "pset.renameArguments(**renArg)\n"
   ]
  },
  {
   "cell_type": "code",
   "execution_count": 10,
   "id": "f07b3c4f",
   "metadata": {},
   "outputs": [],
   "source": [
    "def avgAbsError(individual, dataframe, forecast):\n",
    "    \n",
    "    # Transform the tree expression in a callable function\n",
    "    func = toolbox.compile(expr=individual)\n",
    "    \n",
    "    # Evaluate the mean squared error between the expression and the real function\n",
    "    AvgAbsError = [abs(func(*dataframe.iloc[nrow]) - forecast[nrow]) for nrow in random.sample(range(len(dataframe)), int(len(dataframe)/2))]\n",
    "\n",
    "    return sum(AvgAbsError) / len(AvgAbsError),"
   ]
  },
  {
   "cell_type": "markdown",
   "id": "766fcc72",
   "metadata": {},
   "source": [
    "#### 4. Parameters definition"
   ]
  },
  {
   "cell_type": "code",
   "execution_count": 11,
   "id": "628f9c61",
   "metadata": {
    "scrolled": false
   },
   "outputs": [],
   "source": [
    "#Defining fitness class\n",
    "creator.create(\"FitnessMin\", base.Fitness, weights=(-1,))\n",
    "\n",
    "#Defining individuals shape and associating fitness attribute\n",
    "creator.create(\"Individual\", gp.PrimitiveTree, fitness=creator.FitnessMin)\n",
    "\n",
    "#Creating toolbox to register: population creation, evaluation function, selection mecanism\n",
    "#and genetic operators\n",
    "toolbox = base.Toolbox()\n",
    "toolbox.register(\"expr\", gp.genHalfAndHalf, pset=pset, min_=1, max_=2)\n",
    "toolbox.register(\"individual\", tools.initIterate, creator.Individual, toolbox.expr)\n",
    "toolbox.register(\"population\", tools.initRepeat, list, toolbox.individual)\n",
    "toolbox.register(\"compile\", gp.compile, pset=pset)\n",
    "toolbox.register(\"evaluate\", avgAbsError, dataframe=slow_wind, forecast=forecast)\n",
    "toolbox.register(\"select\", tools.selTournament, tournsize=3)\n",
    "toolbox.register(\"mate\", gp.cxOnePoint)\n",
    "toolbox.register(\"expr_mut\", gp.genFull, min_=0, max_=2)\n",
    "toolbox.register(\"mutate\", gp.mutUniform, expr=toolbox.expr_mut, pset=pset)\n",
    "toolbox.decorate(\"mate\", gp.staticLimit(key=operator.attrgetter(\"height\"), max_value=20))\n",
    "toolbox.decorate(\"mutate\", gp.staticLimit(key=operator.attrgetter(\"height\"), max_value=20))"
   ]
  },
  {
   "cell_type": "markdown",
   "id": "6e83c5c2",
   "metadata": {},
   "source": [
    "#### 5. Algorithm initialization"
   ]
  },
  {
   "cell_type": "code",
   "execution_count": 12,
   "id": "7eb5dbac",
   "metadata": {},
   "outputs": [],
   "source": [
    "def StatsToCsv(StatsDF):\n",
    "    replacement = [' ',':','.']\n",
    "    date=datetime.datetime.now()\n",
    "    for sign in replacement:\n",
    "        date = str(date).replace(str(sign), '_') \n",
    "    StatsDF.to_csv(f'~\\Documents\\TFM\\\\venv_TFM\\Stats\\MonoStats\\Stats{date}.csv')"
   ]
  },
  {
   "cell_type": "code",
   "execution_count": 13,
   "id": "e36561bd",
   "metadata": {},
   "outputs": [],
   "source": [
    "def EquationSimplifier(ind): \n",
    "    locals = {\n",
    "        'sub': operations.sub,\n",
    "        'protectedDiv': operations.protectedDiv,\n",
    "        'mul': operations.mul,\n",
    "        'add': operations.add,\n",
    "        'pow': operations.pow\n",
    "    }\n",
    "    expr = sympify(ind , locals=locals)\n",
    "    return expr"
   ]
  },
  {
   "cell_type": "code",
   "execution_count": 14,
   "id": "fefe4f4d",
   "metadata": {},
   "outputs": [
    {
     "name": "stdout",
     "output_type": "stream",
     "text": [
      "------Let's select algorithm parameters------\n",
      "Select number of individuals: 10\n",
      "Select crossover probability: .7\n",
      "Select mutation probability: .3\n",
      "Select number of generations: 10\n",
      "Select accelerator: Multithreading(1), multiprocessing(2) or none(3): 1\n",
      "--------Starting algorithm of 10 individuals and 10 generations--------\n",
      "---------Entering multithreading--------\n"
     ]
    },
    {
     "name": "stderr",
     "output_type": "stream",
     "text": [
      "\r",
      "  0%|                                                                                           | 0/10 [00:00<?, ?it/s]"
     ]
    },
    {
     "name": "stdout",
     "output_type": "stream",
     "text": [
      "--------Entering generation 1--------\n"
     ]
    },
    {
     "name": "stderr",
     "output_type": "stream",
     "text": [
      "\r",
      " 10%|████████▎                                                                          | 1/10 [00:00<00:04,  1.86it/s]"
     ]
    },
    {
     "name": "stdout",
     "output_type": "stream",
     "text": [
      "Best individual fitness is: 68.41627551555203\n",
      "--------Entering generation 2--------\n"
     ]
    },
    {
     "name": "stderr",
     "output_type": "stream",
     "text": [
      "\r",
      " 20%|████████████████▌                                                                  | 2/10 [00:01<00:04,  1.89it/s]"
     ]
    },
    {
     "name": "stdout",
     "output_type": "stream",
     "text": [
      "Best individual fitness is: 68.41627551555203\n",
      "--------Entering generation 3--------\n"
     ]
    },
    {
     "name": "stderr",
     "output_type": "stream",
     "text": [
      "\r",
      " 30%|████████████████████████▉                                                          | 3/10 [00:01<00:03,  1.92it/s]"
     ]
    },
    {
     "name": "stdout",
     "output_type": "stream",
     "text": [
      "Best individual fitness is: 68.41627551555203\n",
      "--------Entering generation 4--------\n"
     ]
    },
    {
     "name": "stderr",
     "output_type": "stream",
     "text": [
      "C:\\Users\\Christian Mariscal\\Documents\\TFM\\venv_TFM\\lib\\site-packages\\numpy\\core\\_methods.py:235: RuntimeWarning: overflow encountered in multiply\n",
      "  x = um.multiply(x, x, out=x)\n",
      "\r",
      " 40%|█████████████████████████████████▏                                                 | 4/10 [00:02<00:03,  1.90it/s]"
     ]
    },
    {
     "name": "stdout",
     "output_type": "stream",
     "text": [
      "Best individual fitness is: 68.41627551555203\n",
      "--------Entering generation 5--------\n"
     ]
    },
    {
     "name": "stderr",
     "output_type": "stream",
     "text": [
      "\r",
      " 50%|█████████████████████████████████████████▌                                         | 5/10 [00:02<00:02,  1.85it/s]"
     ]
    },
    {
     "name": "stdout",
     "output_type": "stream",
     "text": [
      "Best individual fitness is: 68.24904451832792\n",
      "--------Entering generation 6--------\n"
     ]
    },
    {
     "name": "stderr",
     "output_type": "stream",
     "text": [
      "\r",
      " 60%|█████████████████████████████████████████████████▊                                 | 6/10 [00:03<00:02,  1.86it/s]"
     ]
    },
    {
     "name": "stdout",
     "output_type": "stream",
     "text": [
      "Best individual fitness is: 66.89975664864946\n",
      "--------Entering generation 7--------\n"
     ]
    },
    {
     "name": "stderr",
     "output_type": "stream",
     "text": [
      "\r",
      " 70%|██████████████████████████████████████████████████████████                         | 7/10 [00:03<00:01,  1.83it/s]"
     ]
    },
    {
     "name": "stdout",
     "output_type": "stream",
     "text": [
      "Best individual fitness is: 64.92875694144047\n",
      "--------Entering generation 8--------\n"
     ]
    },
    {
     "name": "stderr",
     "output_type": "stream",
     "text": [
      "\r",
      " 80%|██████████████████████████████████████████████████████████████████▍                | 8/10 [00:04<00:01,  1.87it/s]"
     ]
    },
    {
     "name": "stdout",
     "output_type": "stream",
     "text": [
      "Best individual fitness is: 62.81089955955139\n",
      "--------Entering generation 9--------\n"
     ]
    },
    {
     "name": "stderr",
     "output_type": "stream",
     "text": [
      "\r",
      " 90%|██████████████████████████████████████████████████████████████████████████▋        | 9/10 [00:04<00:00,  1.86it/s]"
     ]
    },
    {
     "name": "stdout",
     "output_type": "stream",
     "text": [
      "Best individual fitness is: 61.81538501566177\n",
      "--------Entering generation 10--------\n"
     ]
    },
    {
     "name": "stderr",
     "output_type": "stream",
     "text": [
      "100%|██████████████████████████████████████████████████████████████████████████████████| 10/10 [00:05<00:00,  1.87it/s]"
     ]
    },
    {
     "name": "stdout",
     "output_type": "stream",
     "text": [
      "Best individual fitness is: 62.81089955955139\n",
      "--------Algorithm execution took 6.08358359336853 s--------\n",
      "Metric of best individual is: (62.81089955955139,)\n",
      "--------Original equation--------: speed_carrington_3\n",
      "--------Simplified equation--------: speed_carrington_3\n"
     ]
    },
    {
     "name": "stderr",
     "output_type": "stream",
     "text": [
      "\n"
     ]
    }
   ],
   "source": [
    "def eaSimpleOr(population, toolbox, cxpb, mutpb, ngen, stats=None,\n",
    "             halloffame=None, verbose=__debug__, multiThread = False, multiProcess = False):\n",
    "\n",
    "    print(f'--------Starting algorithm of {len(population)} individuals and {ngen} generations--------')\n",
    "    start = time.time()\n",
    "    logbook = tools.Logbook()\n",
    "    logbook.header = ['gen', 'nevals'] + (stats.fields if stats else [])\n",
    "\n",
    "    # Evaluate the individuals with an invalid fitness\n",
    "    invalid_ind = [ind for ind in population if not ind.fitness.valid]\n",
    "    if multiThread == True: \n",
    "        print(f'---------Entering multithreading--------')\n",
    "        with ThreadPoolExecutor() as executor:\n",
    "            futures = []\n",
    "            for ind in invalid_ind: \n",
    "                future = executor.submit(toolbox.evaluate, ind)\n",
    "                futures.append(future)\n",
    "            fitnesses = [future.result() for future in futures]\n",
    "    elif multiProcess==True:\n",
    "        print('--------Entering multiprocessing--------')\n",
    "        fitnesses = toolbox.map(toolbox.evaluate, invalid_ind)\n",
    "    else: \n",
    "        print('--------Entering without accelerators activated--------')\n",
    "        fitnesses = toolbox.map(toolbox.evaluate, invalid_ind)\n",
    "         \n",
    "    for ind, fit in zip(invalid_ind, fitnesses):\n",
    "        ind.fitness.values = fit\n",
    "    if halloffame is not None:\n",
    "        halloffame.update(population)\n",
    "        hof_size = len(halloffame.items) \n",
    "    else: \n",
    "        hof_size=0\n",
    "\n",
    "    record = stats.compile(population) if stats else {}\n",
    "    logbook.record(gen=0, nevals=len(invalid_ind), **record)\n",
    "    # Begin the generational process\n",
    "    for gen in tqdm(range(1, ngen + 1)):\n",
    "        # Select the next generation individuals\n",
    "        offspring = toolbox.select(population, len(population)-hof_size)\n",
    "\n",
    "        # Vary the pool of individuals\n",
    "        offspring = algorithms.varOr(offspring, toolbox, len(population)-hof_size, cxpb, mutpb)\n",
    "\n",
    "        # Evaluate the individuals with an invalid fitness\n",
    "        invalid_ind = [ind for ind in offspring if not ind.fitness.valid]\n",
    "        \n",
    "        if multiThread == True: \n",
    "            print(f'--------Entering generation {gen}--------')\n",
    "            with ThreadPoolExecutor() as executor:\n",
    "                futures = []\n",
    "                for ind in invalid_ind: \n",
    "                    future = executor.submit(toolbox.evaluate, ind)\n",
    "                    futures.append(future)\n",
    "                fitnesses = [future.result() for future in futures]\n",
    "        else: \n",
    "            print(f'--------Entering generation {gen}--------')\n",
    "            fitnesses = toolbox.map(toolbox.evaluate, invalid_ind)\n",
    "        \n",
    "        for ind, fit in zip(invalid_ind, fitnesses):\n",
    "            ind.fitness.values = fit\n",
    "\n",
    "        # Update the hall of fame with the generated individuals\n",
    "        if halloffame is not None:\n",
    "            offspring.extend(halloffame.items)\n",
    "            halloffame.update(offspring)\n",
    "            fitnesses.extend(hof.fitness.values for hof in halloffame)\n",
    "            \n",
    "        # Replace the current population by the offspring\n",
    "        population[:] = offspring\n",
    "\n",
    "        #Print best individual fitness\n",
    "        metrics = [fitness[0] for fitness in fitnesses]\n",
    "        print(f\"Best individual fitness is: {min(metrics)}\")\n",
    "        # Append the current generation statistics to the logbook\n",
    "        record = stats.compile(population) if stats else {}\n",
    "        logbook.record(gen=gen, nevals=len(invalid_ind), **record)\n",
    "        if verbose:\n",
    "            StatisticsDataFrame = (logbook.stream)\n",
    "            \n",
    "        bestMetric = min([king.fitness.values for king in hof.items])\n",
    "        for king in hof.items: \n",
    "            if king.fitness.values == bestMetric: \n",
    "                emperor = king\n",
    "        SimplerExpr = EquationSimplifier(emperor.__str__())\n",
    "    \n",
    "        print(f'{popSize};{cxpb};{mtpb};{ngen};{accelerator};{emperor.__str__()};{bestMetric};', file=open(r'C:\\Users\\Christian Mariscal\\Documents\\TFM\\venv_TFM\\results\\slow\\mono\\genStats\\results.txt', 'a'))\n",
    "\n",
    "    end = time.time()\n",
    "    \n",
    "    print(f'--------Algorithm execution took {end - start} s--------')\n",
    "    \n",
    "    return population, logbook, halloffame, StatisticsDataFrame\n",
    "\n",
    "if __name__ == \"__main__\": \n",
    "    \n",
    "    random.seed(318)\n",
    "    CPUs = None\n",
    "    multiProcess = False\n",
    "    multiThread = False\n",
    "    \n",
    "    print('------Let\\'s select algorithm parameters------')\n",
    "    popSize=int(input('Select number of individuals: '))\n",
    "    pop = toolbox.population(n=popSize)\n",
    "    cxpb = float(input('Select crossover probability: '))\n",
    "    mtpb = float(input('Select mutation probability: '))\n",
    "    ngen = int(input('Select number of generations: '))\n",
    "    accelerator = int(input('Select accelerator: Multithreading(1), multiprocessing(2) or none(3): '))\n",
    "    if accelerator == 1: \n",
    "        multiThread = True\n",
    "    elif accelerator == 2:\n",
    "        multiProcess = True\n",
    "        CPUs = int(input(f'Select number of cpu\\'s for multiprocessing (CPUs available = {multiprocessing.cpu_count()}): '))\n",
    "        pool = multiprocessing.Pool(CPUs)\n",
    "        toolbox.register(\"map\", pool.map)\n",
    "        \n",
    "    hof = tools.HallOfFame(3)\n",
    "    stats_fit_AAE = tools.Statistics(lambda ind: ind.fitness.values)\n",
    "    stats_size = tools.Statistics(len)\n",
    "    mstats = tools.MultiStatistics(AAE=stats_fit_AAE, size=stats_size)\n",
    "    mstats.register(\"avg\", numpy.mean)\n",
    "    mstats.register(\"std\", numpy.std)\n",
    "    mstats.register(\"min\", numpy.min)\n",
    "    mstats.register(\"max\", numpy.max)\n",
    "    \n",
    "    pop, log, hof, StatisticsDataFrame = eaSimpleOr(pop, toolbox, cxpb, mtpb, ngen, stats=mstats, halloffame=hof, verbose=True, multiProcess = multiProcess, multiThread = multiThread)\n",
    "    \n",
    "    #Compute best individual metrics\n",
    "    bestMetric = min([king.fitness.values for king in hof.items])\n",
    "    print(f\"Metric of best individual is: {bestMetric}\")\n",
    "    \n",
    "    #Extracting simpler equation\n",
    "    for king in hof.items: \n",
    "        if king.fitness.values == bestMetric: \n",
    "            emperor = king\n",
    "    SimplerExpr = EquationSimplifier(emperor.__str__())\n",
    "    print(f'--------Original equation--------: {emperor.__str__()}')\n",
    "    print(f'--------Simplified equation--------: {SimplerExpr}')\n",
    "    \n",
    "    #Save stats to csv\n",
    "    StatsToCsv(StatisticsDataFrame)"
   ]
  },
  {
   "cell_type": "markdown",
   "id": "7565e213",
   "metadata": {},
   "source": [
    "#### 7. Graphs"
   ]
  },
  {
   "cell_type": "code",
   "execution_count": 16,
   "id": "c0cfbe1b",
   "metadata": {},
   "outputs": [],
   "source": [
    "bestEq = pd.read_csv(r'~\\Documents\\TFM\\venv_TFM\\results\\slow\\mono\\genStats\\R2.txt', delimiter=';').iloc[-1]['bestEq']"
   ]
  },
  {
   "cell_type": "code",
   "execution_count": 20,
   "id": "727bb45b",
   "metadata": {},
   "outputs": [
    {
     "data": {
      "image/png": "[encoded data removed]",
      "text/plain": [
       "<Figure size 432x288 with 1 Axes>"
      ]
     },
     "metadata": {
      "needs_background": "light"
     },
     "output_type": "display_data"
    }
   ],
   "source": [
    "expr = bestEq\n",
    "func = gp.compile(expr = expr, pset = pset)\n",
    "predicted = [func(*slow_wind.iloc[i]) for i in range(len(slow_wind))]\n",
    "forec = [forecast.iloc[i] for i in range(len(slow_wind))]\n",
    "errors = [abs(i-j) for i,j in zip(predicted, forec)]\n",
    "baseline = 24.92852089\n",
    "errors = pd.DataFrame(errors, columns=['errors'])\n",
    "bad_error = errors.loc[errors['errors']>baseline]\n",
    "good_error = errors.loc[errors['errors']<baseline]\n",
    "plt.hist(bad_error, color = 'r', label = f'Error > baseline: {len(bad_error)}', bins= int((bad_error.max()-bad_error.min())/5))\n",
    "plt.hist(good_error, color = 'g', label = f'Error < baseline: {len(good_error)}', bins= int((good_error.max()-good_error.min())/5))\n",
    "plt.legend()\n",
    "plt.title('Distribution plot of errors')\n",
    "plt.show()"
   ]
  },
  {
   "cell_type": "code",
   "execution_count": 15,
   "id": "bf46a6d5",
   "metadata": {},
   "outputs": [],
   "source": [
    "# expr = 'add(speed_1d_1, add(add(add(sub(p_density_1d_1, log(speed_1d_1)), add(add(cos(add(add(log10(sin(log(add(cos(Bt_1d_1), speed_1d_2)))), add(log10(pow(sub(p_density_1d_1, sin(log(p_density_1d_3))), log10(-2))), -2)), add(cos(sqrt(speed_1d_1)), add(add(log10(sin(log(add(cos(p_density_1d_1), speed_1d_2)))), add(log10(sin(log(sqrt(speed_1d_1)))), -2)), log10(sin(log(add(p_density_1d_1, speed_1d_2)))))))), add(add(add(log10(sin(log(add(Bt_1d_1, pow(exp(3.141592653589793), log(speed_1d_1)))))), add(log10(pow(sub(p_density_1d_1, tan(asin(temperature_1d_2))), log10(add(-2, add(add(speed_carrington_1, By_1d_4), log10(sub(p_density_1d_1, p_density_1d_1))))))), -2)), add(cos(sqrt(speed_1d_1)), add(add(log10(sin(log(log(add(cos(p_density_1d_1), speed_1d_2))))), -2), log10(sin(tan(3.141592653589793)))))), acos(p_density_carrington_1))), log10(sin(log(add(cos(p_density_1d_1), speed_1d_2)))))), add(add(add(add(cos(sqrt(speed_1d_1)), add(add(log10(sin(log(add(Bt_1d_1, pow(exp(3.141592653589793), log(speed_1d_1)))))), -2), add(cos(sqrt(speed_1d_1)), add(add(log10(By_1d_1), -2), asin(atan(By_1d_1)))))), add(log10(speed_1d_2), -2)), sub(add(sub(p_density_1d_1, p_density_carrington_3), Bt_1d_1), p_density_carrington_1)), sub(p_density_1d_1, log(speed_1d_1)))), add(add(Bt_carrington_2, add(add(cos(Bt_1d_1), add(add(add(cos(Bt_1d_1), add(add(sin(Bx_carrington_2), add(add(log10(Bx_carrington_2), add(-2, log10(By_1d_1))), log10(acos(add(p_density_1d_3, Bz_1d_2))))), atan(Bz_carrington_1))), add(add(cos(sqrt(speed_1d_1)), -2), add(cos(sqrt(speed_1d_1)), add(add(log10(-2), -2), asin(atan(By_1d_1)))))), add(add(cos(sqrt(speed_1d_1)), add(add(log10(exp(3.141592653589793)), -2), log10(Bt_1d_1))), atan(sin(log(add(p_density_1d_1, speed_1d_2))))))), -2)), protectedDiv(sub(add(add(add(sub(p_density_1d_1, log(add(-2, speed_1d_2))), sub(sub(p_density_1d_1, sin(sub(sub(sqrt(speed_1d_1), sin(log10(pow(sub(p_density_1d_1, p_density_1d_3), Bx_1d_4)))), log(acos(p_density_1d_1))))), log(add(sub(add(sin(By_1d_1), Bt_1d_1), p_density_carrington_1), speed_1d_2)))), add(add(log10(sin(log(add(cos(Bt_1d_1), speed_1d_2)))), add(log10(pow(sub(p_density_1d_1, sin(log(p_density_1d_3))), log10(-2))), -2)), add(cos(sqrt(speed_1d_1)), add(add(log10(sin(log(add(cos(p_density_1d_1), speed_1d_2)))), add(log10(sin(log(sqrt(speed_1d_1)))), -2)), log10(sin(log(add(p_density_1d_1, speed_1d_2)))))))), protectedDiv(sub(add(cos(Bt_1d_1), Bt_1d_1), add(sin(sub(Bt_1d_1, log(p_density_1d_1))), p_density_1d_3)), asin(add(speed_1d_3, Bz_1d_4)))), log(add(acos(add(-2, sub(sqrt(speed_1d_1), sin(log10(pow(sub(p_density_1d_1, p_density_1d_3), Bx_1d_4)))))), speed_1d_2))), asin(sqrt(atan(add(sin(asin(sqrt(p_density_carrington_3))), speed_1d_2))))))))'\n",
    "# func = gp.compile(expr = expr, pset = pset)\n",
    "# predicted = [func(*slow_wind.iloc[i]) for i in range(len(slow_wind))]\n",
    "# forec = [forecast.iloc[i] for i in range(len(slow_wind))]\n",
    "# errors = [abs(i-j) for i,j in zip(predicted, forec)]\n",
    "# baseline = 24.92852089\n",
    "# errors = pd.DataFrame(errors, columns=['errors'])\n",
    "# bad_error = errors.loc[errors['errors']>baseline]\n",
    "# good_error = errors.loc[errors['errors']<baseline]\n",
    "# plt.hist(bad_error, color = 'r', label = f'Error > baseline: {len(bad_error)}', bins= int((bad_error.max()-bad_error.min())/5))\n",
    "# plt.hist(good_error, color = 'g', label = f'Error < baseline: {len(good_error)}', bins= int((good_error.max()-good_error.min())/5))\n",
    "# plt.legend()\n",
    "# plt.title('Distribution plot of errors')\n",
    "# plt.show()"
   ]
  }
 ],
 "metadata": {
  "kernelspec": {
   "display_name": "Python 3 (ipykernel)",
   "language": "python",
   "name": "python3"
  },
  "language_info": {
   "codemirror_mode": {
    "name": "ipython",
    "version": 3
   },
   "file_extension": ".py",
   "mimetype": "text/x-python",
   "name": "python",
   "nbconvert_exporter": "python",
   "pygments_lexer": "ipython3",
   "version": "3.10.5"
  }
 },
 "nbformat": 4,
 "nbformat_minor": 5
}

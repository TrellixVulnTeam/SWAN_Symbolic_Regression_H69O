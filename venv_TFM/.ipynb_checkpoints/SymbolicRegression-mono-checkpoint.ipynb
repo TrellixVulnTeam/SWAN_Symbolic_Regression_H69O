{
 "cells": [
  {
   "cell_type": "markdown",
   "id": "fb14774a",
   "metadata": {},
   "source": [
    "# Symbolic Regression mono-objective"
   ]
  },
  {
   "cell_type": "markdown",
   "id": "1963ca1d",
   "metadata": {},
   "source": [
    "#### 1. Libraries importation"
   ]
  },
  {
   "cell_type": "code",
   "execution_count": 1,
   "id": "130ac64e",
   "metadata": {},
   "outputs": [],
   "source": [
    "import math\n",
    "import random\n",
    "import csv\n",
    "import numpy\n",
    "import operator\n",
    "import matplotlib.pyplot as plt\n",
    "from deap import algorithms, base, creator , tools, gp"
   ]
  },
  {
   "cell_type": "markdown",
   "id": "934c1d62",
   "metadata": {},
   "source": [
    "#### 2. Defining primitive set"
   ]
  },
  {
   "cell_type": "code",
   "execution_count": 2,
   "id": "93f2d09d",
   "metadata": {},
   "outputs": [],
   "source": [
    "# Define new functions\n",
    "def protectedDiv(left, right):\n",
    "    try:\n",
    "        return left / right\n",
    "    except ZeroDivisionError:\n",
    "        return 1\n",
    "\n",
    "#Second argument = number of variables in problem (this case, 'x')\n",
    "pset = gp.PrimitiveSet(\"MAIN\", 1)\n",
    "#Second argument = arity\n",
    "pset.addPrimitive(operator.add, 2)\n",
    "pset.addPrimitive(operator.sub, 2)\n",
    "pset.addPrimitive(operator.mul, 2)\n",
    "pset.addPrimitive(protectedDiv, 2)\n",
    "pset.addPrimitive(operator.neg, 1)\n",
    "pset.addPrimitive(math.cos, 1)\n",
    "pset.addPrimitive(math.sin, 1)\n",
    "pset.addEphemeralConstant(\"rand101\", lambda: random.randint(-10,10))\n",
    "pset.renameArguments(ARG0='x')"
   ]
  },
  {
   "cell_type": "markdown",
   "id": "d1a7e191",
   "metadata": {},
   "source": [
    "#### 3. Parameters definition"
   ]
  },
  {
   "cell_type": "code",
   "execution_count": 3,
   "id": "628f9c61",
   "metadata": {
    "scrolled": false
   },
   "outputs": [],
   "source": [
    "#Defining fitness class\n",
    "creator.create(\"FitnessMin\", base.Fitness, weights=(-1,))\n",
    "#Defining individuals shape and associatinf fitness attribute\n",
    "creator.create(\"Individual\", gp.PrimitiveTree, fitness=creator.FitnessMin)\n",
    "\n",
    "#Creating toolbox to register: population creation, evaluation function, selection mecanism\n",
    "#and genetic operators\n",
    "toolbox = base.Toolbox()\n",
    "toolbox.register(\"expr\", gp.genHalfAndHalf, pset=pset, min_=1, max_=2)\n",
    "toolbox.register(\"individual\", tools.initIterate, creator.Individual, toolbox.expr)\n",
    "toolbox.register(\"population\", tools.initRepeat, list, toolbox.individual)\n",
    "toolbox.register(\"compile\", gp.compile, pset=pset)\n",
    "\n",
    "def evalSymbReg(individual, points):\n",
    "    # Transform the tree expression in a callable function\n",
    "    func = toolbox.compile(expr=individual)\n",
    "    # Evaluate the mean squared error between the expression\n",
    "    # and the real function : x**4 + x**3 + x**2 + x\n",
    "    #sqerrors = ((func(x) - x**4 - x**3 - x**2 - x )**2 for x in points)\n",
    "    sqerrors = ((func(x) - (math.sin(x**2))**2 - math.sin(x) - (math.cos(x**2))**2 - math.cos(x) - x**3 - 2*x**2 - 4 )**2 for x in points)\n",
    "    return math.fsum(sqerrors) / len(points),\n",
    "\n",
    "toolbox.register(\"evaluate\", evalSymbReg, points=[x for x in range(-100,100)])\n",
    "toolbox.register(\"select\", tools.selTournament, tournsize=3)\n",
    "toolbox.register(\"mate\", gp.cxOnePoint)\n",
    "toolbox.register(\"expr_mut\", gp.genFull, min_=0, max_=2)\n",
    "toolbox.register(\"mutate\", gp.mutUniform, expr=toolbox.expr_mut, pset=pset)\n",
    "\n",
    "toolbox.decorate(\"mate\", gp.staticLimit(key=operator.attrgetter(\"height\"), max_value=17))\n",
    "toolbox.decorate(\"mutate\", gp.staticLimit(key=operator.attrgetter(\"height\"), max_value=17))"
   ]
  },
  {
   "cell_type": "markdown",
   "id": "6e83c5c2",
   "metadata": {},
   "source": [
    "#### 4. Algorithm initialization"
   ]
  },
  {
   "cell_type": "code",
   "execution_count": 4,
   "id": "6e007613",
   "metadata": {},
   "outputs": [
    {
     "name": "stdout",
     "output_type": "stream",
     "text": [
      "Creating pandas dataframe\n"
     ]
    },
    {
     "data": {
      "text/html": [
       "<div>\n",
       "<style scoped>\n",
       "    .dataframe tbody tr th:only-of-type {\n",
       "        vertical-align: middle;\n",
       "    }\n",
       "\n",
       "    .dataframe tbody tr th {\n",
       "        vertical-align: top;\n",
       "    }\n",
       "\n",
       "    .dataframe thead th {\n",
       "        text-align: right;\n",
       "    }\n",
       "</style>\n",
       "<table border=\"1\" class=\"dataframe\">\n",
       "  <thead>\n",
       "    <tr style=\"text-align: right;\">\n",
       "      <th></th>\n",
       "      <th>mse_avg</th>\n",
       "      <th>mse_std</th>\n",
       "      <th>mse_min</th>\n",
       "      <th>mse_max</th>\n",
       "      <th>mse_gen</th>\n",
       "      <th>mse_nevals</th>\n",
       "      <th>size_avg</th>\n",
       "      <th>size_std</th>\n",
       "      <th>size_min</th>\n",
       "      <th>size_max</th>\n",
       "      <th>size_gen</th>\n",
       "      <th>size_nevals</th>\n",
       "    </tr>\n",
       "  </thead>\n",
       "  <tbody>\n",
       "    <tr>\n",
       "      <th>0</th>\n",
       "      <td>1.427664e+11</td>\n",
       "      <td>1.215847e+08</td>\n",
       "      <td>1.415256e+11</td>\n",
       "      <td>1.442270e+11</td>\n",
       "      <td>1.0</td>\n",
       "      <td>457.0</td>\n",
       "      <td>3.922</td>\n",
       "      <td>1.649217</td>\n",
       "      <td>1.0</td>\n",
       "      <td>10.0</td>\n",
       "      <td>1.0</td>\n",
       "      <td>457.0</td>\n",
       "    </tr>\n",
       "    <tr>\n",
       "      <th>1</th>\n",
       "      <td>1.427619e+11</td>\n",
       "      <td>1.879413e+08</td>\n",
       "      <td>1.421482e+11</td>\n",
       "      <td>1.445879e+11</td>\n",
       "      <td>2.0</td>\n",
       "      <td>456.0</td>\n",
       "      <td>4.218</td>\n",
       "      <td>1.941771</td>\n",
       "      <td>1.0</td>\n",
       "      <td>15.0</td>\n",
       "      <td>2.0</td>\n",
       "      <td>456.0</td>\n",
       "    </tr>\n",
       "    <tr>\n",
       "      <th>2</th>\n",
       "      <td>1.427512e+11</td>\n",
       "      <td>2.224081e+08</td>\n",
       "      <td>1.421482e+11</td>\n",
       "      <td>1.456025e+11</td>\n",
       "      <td>3.0</td>\n",
       "      <td>446.0</td>\n",
       "      <td>4.438</td>\n",
       "      <td>1.869266</td>\n",
       "      <td>1.0</td>\n",
       "      <td>11.0</td>\n",
       "      <td>3.0</td>\n",
       "      <td>446.0</td>\n",
       "    </tr>\n",
       "    <tr>\n",
       "      <th>3</th>\n",
       "      <td>1.427164e+11</td>\n",
       "      <td>2.714701e+08</td>\n",
       "      <td>1.408358e+11</td>\n",
       "      <td>1.453195e+11</td>\n",
       "      <td>4.0</td>\n",
       "      <td>444.0</td>\n",
       "      <td>4.770</td>\n",
       "      <td>2.095018</td>\n",
       "      <td>1.0</td>\n",
       "      <td>13.0</td>\n",
       "      <td>4.0</td>\n",
       "      <td>444.0</td>\n",
       "    </tr>\n",
       "    <tr>\n",
       "      <th>4</th>\n",
       "      <td>1.426655e+11</td>\n",
       "      <td>3.909505e+08</td>\n",
       "      <td>1.402812e+11</td>\n",
       "      <td>1.472302e+11</td>\n",
       "      <td>5.0</td>\n",
       "      <td>440.0</td>\n",
       "      <td>5.476</td>\n",
       "      <td>2.521393</td>\n",
       "      <td>1.0</td>\n",
       "      <td>17.0</td>\n",
       "      <td>5.0</td>\n",
       "      <td>440.0</td>\n",
       "    </tr>\n",
       "    <tr>\n",
       "      <th>...</th>\n",
       "      <td>...</td>\n",
       "      <td>...</td>\n",
       "      <td>...</td>\n",
       "      <td>...</td>\n",
       "      <td>...</td>\n",
       "      <td>...</td>\n",
       "      <td>...</td>\n",
       "      <td>...</td>\n",
       "      <td>...</td>\n",
       "      <td>...</td>\n",
       "      <td>...</td>\n",
       "      <td>...</td>\n",
       "    </tr>\n",
       "    <tr>\n",
       "      <th>495</th>\n",
       "      <td>4.180249e+13</td>\n",
       "      <td>9.336432e+14</td>\n",
       "      <td>1.810175e-01</td>\n",
       "      <td>2.089781e+16</td>\n",
       "      <td>496.0</td>\n",
       "      <td>455.0</td>\n",
       "      <td>150.378</td>\n",
       "      <td>29.459245</td>\n",
       "      <td>4.0</td>\n",
       "      <td>240.0</td>\n",
       "      <td>496.0</td>\n",
       "      <td>455.0</td>\n",
       "    </tr>\n",
       "    <tr>\n",
       "      <th>496</th>\n",
       "      <td>1.136301e+15</td>\n",
       "      <td>2.538289e+16</td>\n",
       "      <td>1.810175e-01</td>\n",
       "      <td>5.681472e+17</td>\n",
       "      <td>497.0</td>\n",
       "      <td>445.0</td>\n",
       "      <td>150.502</td>\n",
       "      <td>27.231636</td>\n",
       "      <td>1.0</td>\n",
       "      <td>212.0</td>\n",
       "      <td>497.0</td>\n",
       "      <td>445.0</td>\n",
       "    </tr>\n",
       "    <tr>\n",
       "      <th>497</th>\n",
       "      <td>2.229276e+12</td>\n",
       "      <td>4.964464e+13</td>\n",
       "      <td>1.810175e-01</td>\n",
       "      <td>1.111206e+15</td>\n",
       "      <td>498.0</td>\n",
       "      <td>459.0</td>\n",
       "      <td>153.122</td>\n",
       "      <td>25.001022</td>\n",
       "      <td>9.0</td>\n",
       "      <td>212.0</td>\n",
       "      <td>498.0</td>\n",
       "      <td>459.0</td>\n",
       "    </tr>\n",
       "    <tr>\n",
       "      <th>498</th>\n",
       "      <td>2.793773e+14</td>\n",
       "      <td>6.240685e+15</td>\n",
       "      <td>1.810175e-01</td>\n",
       "      <td>1.396857e+17</td>\n",
       "      <td>499.0</td>\n",
       "      <td>446.0</td>\n",
       "      <td>150.814</td>\n",
       "      <td>28.380546</td>\n",
       "      <td>4.0</td>\n",
       "      <td>217.0</td>\n",
       "      <td>499.0</td>\n",
       "      <td>446.0</td>\n",
       "    </tr>\n",
       "    <tr>\n",
       "      <th>499</th>\n",
       "      <td>3.716327e+09</td>\n",
       "      <td>2.274289e+10</td>\n",
       "      <td>1.810175e-01</td>\n",
       "      <td>1.433473e+11</td>\n",
       "      <td>500.0</td>\n",
       "      <td>454.0</td>\n",
       "      <td>150.274</td>\n",
       "      <td>29.381541</td>\n",
       "      <td>1.0</td>\n",
       "      <td>241.0</td>\n",
       "      <td>500.0</td>\n",
       "      <td>454.0</td>\n",
       "    </tr>\n",
       "  </tbody>\n",
       "</table>\n",
       "<p>500 rows × 12 columns</p>\n",
       "</div>"
      ],
      "text/plain": [
       "          mse_avg       mse_std       mse_min       mse_max  mse_gen  \\\n",
       "0    1.427664e+11  1.215847e+08  1.415256e+11  1.442270e+11      1.0   \n",
       "1    1.427619e+11  1.879413e+08  1.421482e+11  1.445879e+11      2.0   \n",
       "2    1.427512e+11  2.224081e+08  1.421482e+11  1.456025e+11      3.0   \n",
       "3    1.427164e+11  2.714701e+08  1.408358e+11  1.453195e+11      4.0   \n",
       "4    1.426655e+11  3.909505e+08  1.402812e+11  1.472302e+11      5.0   \n",
       "..            ...           ...           ...           ...      ...   \n",
       "495  4.180249e+13  9.336432e+14  1.810175e-01  2.089781e+16    496.0   \n",
       "496  1.136301e+15  2.538289e+16  1.810175e-01  5.681472e+17    497.0   \n",
       "497  2.229276e+12  4.964464e+13  1.810175e-01  1.111206e+15    498.0   \n",
       "498  2.793773e+14  6.240685e+15  1.810175e-01  1.396857e+17    499.0   \n",
       "499  3.716327e+09  2.274289e+10  1.810175e-01  1.433473e+11    500.0   \n",
       "\n",
       "     mse_nevals  size_avg   size_std  size_min  size_max  size_gen  \\\n",
       "0         457.0     3.922   1.649217       1.0      10.0       1.0   \n",
       "1         456.0     4.218   1.941771       1.0      15.0       2.0   \n",
       "2         446.0     4.438   1.869266       1.0      11.0       3.0   \n",
       "3         444.0     4.770   2.095018       1.0      13.0       4.0   \n",
       "4         440.0     5.476   2.521393       1.0      17.0       5.0   \n",
       "..          ...       ...        ...       ...       ...       ...   \n",
       "495       455.0   150.378  29.459245       4.0     240.0     496.0   \n",
       "496       445.0   150.502  27.231636       1.0     212.0     497.0   \n",
       "497       459.0   153.122  25.001022       9.0     212.0     498.0   \n",
       "498       446.0   150.814  28.380546       4.0     217.0     499.0   \n",
       "499       454.0   150.274  29.381541       1.0     241.0     500.0   \n",
       "\n",
       "     size_nevals  \n",
       "0          457.0  \n",
       "1          456.0  \n",
       "2          446.0  \n",
       "3          444.0  \n",
       "4          440.0  \n",
       "..           ...  \n",
       "495        455.0  \n",
       "496        445.0  \n",
       "497        459.0  \n",
       "498        446.0  \n",
       "499        454.0  \n",
       "\n",
       "[500 rows x 12 columns]"
      ]
     },
     "metadata": {},
     "output_type": "display_data"
    }
   ],
   "source": [
    "def main():\n",
    "    random.seed(318)\n",
    "\n",
    "    pop = toolbox.population(n=500)\n",
    "    hof = tools.HallOfFame(1)\n",
    "\n",
    "    stats_fit_mse = tools.Statistics(lambda ind: ind.fitness.values)\n",
    "    stats_size = tools.Statistics(len)\n",
    "    mstats = tools.MultiStatistics(mse=stats_fit_mse, size=stats_size)\n",
    "    mstats.register(\"avg\", numpy.mean)\n",
    "    mstats.register(\"std\", numpy.std)\n",
    "    mstats.register(\"min\", numpy.min)\n",
    "    mstats.register(\"max\", numpy.max)\n",
    "\n",
    "    pop, log, hof = algorithms.eaSimpleOr(pop, toolbox, .8, .1, 500, stats=mstats,\n",
    "                                   halloffame=hof, verbose=True)\n",
    "    return pop, log, hof\n",
    "\n",
    "if __name__ == \"__main__\":\n",
    "    pop, log, hof = main()"
   ]
  },
  {
   "cell_type": "markdown",
   "id": "79d33241",
   "metadata": {},
   "source": [
    "### 5. Simplifying resultant equation"
   ]
  },
  {
   "cell_type": "code",
   "execution_count": 22,
   "id": "e36561bd",
   "metadata": {},
   "outputs": [
    {
     "name": "stdout",
     "output_type": "stream",
     "text": [
      "original: mul(add(protectedDiv(sub(protectedDiv(add(x, mul(sin(0), x)), protectedDiv(sin(0), protectedDiv(-1, protectedDiv(mul(8, -10), protectedDiv(protectedDiv(sin(add(neg(x), x)), x), neg(x)))))), 6), add(neg(x), protectedDiv(add(neg(x), protectedDiv(add(add(neg(x), protectedDiv(add(neg(add(x, add(neg(0), cos(add(x, -6))))), protectedDiv(neg(x), protectedDiv(-1, sin(x)))), 3)), protectedDiv(neg(x), protectedDiv(-1, sin(sin(sin(add(add(x, sin(sin(-4))), sin(mul(cos(x), cos(x)))))))))), protectedDiv(-4, sin(add(x, sin(-4)))))), protectedDiv(-4, sin(add(x, sin(protectedDiv(mul(sin(2), protectedDiv(x, 1)), x)))))))), add(x, add(x, mul(x, x)))), x)\n",
      "simplified: nan\n"
     ]
    }
   ],
   "source": [
    "from sympy import sympify, sin, cos\n",
    "def protectedDiv(left, right):\n",
    "    try:\n",
    "        return left / right\n",
    "    except:\n",
    "        return 1\n",
    "locals = {\n",
    "    'sub': lambda x, y : x - y,\n",
    "    'protectedDiv': protectedDiv,\n",
    "    'mul': lambda x, y : x*y,\n",
    "    'add': lambda x, y : x + y,\n",
    "    'neg': lambda x    : -x,\n",
    "    'pow': lambda x, y : x**y, \n",
    "    'sin': lambda x: sin(x), \n",
    "    'cos': lambda x: cos(x)\n",
    "}\n",
    "ind = hof.__getitem__(0).__str__()\n",
    "print(f'original: {ind}')\n",
    "expr = sympify(str(ind) , locals=locals)\n",
    "print(f'simplified: {expr}')\n"
   ]
  },
  {
   "cell_type": "code",
   "execution_count": 24,
   "id": "c0178a22",
   "metadata": {},
   "outputs": [
    {
     "data": {
      "text/latex": [
       "$\\displaystyle \\tilde{\\infty}$"
      ],
      "text/plain": [
       "zoo"
      ]
     },
     "execution_count": 24,
     "metadata": {},
     "output_type": "execute_result"
    }
   ],
   "source": [
    "sympify('protectedDiv(3,0)', locals = locals)"
   ]
  },
  {
   "cell_type": "markdown",
   "id": "d6a6be33",
   "metadata": {},
   "source": [
    "### 6. Graphs"
   ]
  },
  {
   "cell_type": "code",
   "execution_count": 6,
   "id": "c6ff6435",
   "metadata": {},
   "outputs": [
    {
     "name": "stderr",
     "output_type": "stream",
     "text": [
      "C:\\Users\\Christian Mariscal\\AppData\\Local\\Temp\\ipykernel_844\\2844126836.py:4: RuntimeWarning: divide by zero encountered in double_scalars\n",
      "  return left / right\n",
      "C:\\Users\\Christian Mariscal\\AppData\\Local\\Temp\\ipykernel_844\\2844126836.py:4: RuntimeWarning: invalid value encountered in double_scalars\n",
      "  return left / right\n"
     ]
    },
    {
     "data": {
      "text/plain": [
       "<matplotlib.legend.Legend at 0x241b680bf10>"
      ]
     },
     "execution_count": 6,
     "metadata": {},
     "output_type": "execute_result"
    },
    {
     "data": {
      "image/png": "[encoded data removed]",
      "text/plain": [
       "<Figure size 432x288 with 1 Axes>"
      ]
     },
     "metadata": {
      "needs_background": "light"
     },
     "output_type": "display_data"
    }
   ],
   "source": [
    "fig, ax = plt.subplots()\n",
    "original = lambda x: (math.sin(x**2))**2 + math.sin(x) + (math.cos(x**2))**2 + math.cos(x) + x**3 + 2*x**2 + 4\n",
    "ax.plot(numpy.linspace(-100,100,100), [original(x) for x in numpy.linspace(-100,100,100)], color = 'r', marker = 'o', label='original')\n",
    "aprox = lambda x: toolbox.compile(hof.__getitem__(0))(x)\n",
    "ax.plot(numpy.linspace(-100,100,100), [aprox(x) for x in numpy.linspace(-100,100,100)], color = 'b', marker='v', label='aproximation')\n",
    "plt.legend()"
   ]
  }
 ],
 "metadata": {
  "kernelspec": {
   "display_name": "Python 3 (ipykernel)",
   "language": "python",
   "name": "python3"
  },
  "language_info": {
   "codemirror_mode": {
    "name": "ipython",
    "version": 3
   },
   "file_extension": ".py",
   "mimetype": "text/x-python",
   "name": "python",
   "nbconvert_exporter": "python",
   "pygments_lexer": "ipython3",
   "version": "3.10.5"
  }
 },
 "nbformat": 4,
 "nbformat_minor": 5
}

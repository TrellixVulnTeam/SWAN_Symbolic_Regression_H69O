{
 "cells": [
  {
   "cell_type": "markdown",
   "id": "f6aacbaa",
   "metadata": {},
   "source": [
    "# Symbolic Regression multi-objective. NSGA II"
   ]
  },
  {
   "cell_type": "markdown",
   "id": "07d7ce29",
   "metadata": {},
   "source": [
    "#### 1. Libraries importation"
   ]
  },
  {
   "cell_type": "code",
   "execution_count": 1,
   "id": "3e8a7ae5",
   "metadata": {},
   "outputs": [],
   "source": [
    "import math\n",
    "import random\n",
    "import csv\n",
    "import numpy\n",
    "import operator\n",
    "import multiprocessing\n",
    "import numba\n",
    "from deap import algorithms, base, creator , tools, gp\n",
    "import time\n",
    "import matplotlib.pyplot as plt"
   ]
  },
  {
   "cell_type": "markdown",
   "id": "e9dfba60",
   "metadata": {},
   "source": [
    "#### 2. Defining primitive set"
   ]
  },
  {
   "cell_type": "code",
   "execution_count": 2,
   "id": "42ef6186",
   "metadata": {},
   "outputs": [],
   "source": [
    "# Define new functions\n",
    "def protectedDiv(left, right):\n",
    "    try:\n",
    "        return left / right\n",
    "    except ZeroDivisionError:\n",
    "        return 1\n",
    "\n",
    "#Second argument = number of variables in problem (this case, 'x')\n",
    "pset = gp.PrimitiveSet(\"MAIN\", 1)\n",
    "#Second argument = arity\n",
    "pset.addPrimitive(operator.add, 2)\n",
    "pset.addPrimitive(operator.sub, 2)\n",
    "pset.addPrimitive(operator.mul, 2)\n",
    "pset.addPrimitive(protectedDiv, 2)\n",
    "pset.addPrimitive(operator.neg, 1)\n",
    "pset.addPrimitive(math.cos, 1)\n",
    "pset.addPrimitive(math.sin, 1)\n",
    "pset.addEphemeralConstant(\"rand101\", lambda: random.randint(-10,10))\n",
    "pset.renameArguments(ARG0='x')"
   ]
  },
  {
   "cell_type": "markdown",
   "id": "7146b67e",
   "metadata": {},
   "source": [
    "#### 3. Parameters definition"
   ]
  },
  {
   "cell_type": "code",
   "execution_count": 3,
   "id": "628f9c61",
   "metadata": {
    "scrolled": false
   },
   "outputs": [],
   "source": [
    "creator.create(\"FitnessMin\", base.Fitness, weights=(-1,-1))\n",
    "creator.create(\"Individual\", gp.PrimitiveTree, fitness=creator.FitnessMin)\n",
    "\n",
    "toolbox = base.Toolbox()\n",
    "toolbox.register(\"expr\", gp.genHalfAndHalf, pset=pset, min_=1, max_=2)\n",
    "toolbox.register(\"individual\", tools.initIterate, creator.Individual, toolbox.expr)\n",
    "toolbox.register(\"population\", tools.initRepeat, list, toolbox.individual)\n",
    "toolbox.register(\"compile\", gp.compile, pset=pset)\n",
    "def evalSymbReg(individual, points):\n",
    "    # Transform the tree expression in a callable function\n",
    "    func = toolbox.compile(expr=individual)\n",
    "    # Evaluate the mean squared error between the expression\n",
    "    # and the real function : x**4 + x**3 + x**2 + x\n",
    "    #sqerrors = ((func(x) - x**4 - x**3 - x**2 - x )**2 for x in points)\n",
    "    sqerrors = ((func(x) - (math.sin(x**2))**2 - math.sin(x) - (math.cos(x**2))**2 - math.cos(x) - x**3 - 2*x**2 - 4 )**2 for x in points)\n",
    "    return math.fsum(sqerrors) / len(points)\n",
    "def evaluate(individual, points): \n",
    "    return evalSymbReg(individual, points), individual.height \n",
    "    \n",
    "toolbox.register(\"evaluate\", evaluate, points=[x for x in range(-100,100)])\n",
    "toolbox.register(\"select\", tools.selNSGA2)\n",
    "toolbox.register(\"mate\", gp.cxOnePoint)\n",
    "toolbox.register(\"expr_mut\", gp.genFull, min_=0, max_=2)\n",
    "toolbox.register(\"mutate\", gp.mutUniform, expr=toolbox.expr_mut, pset=pset)\n",
    "\n",
    "toolbox.decorate(\"mate\", gp.staticLimit(key=operator.attrgetter(\"height\"), max_value=17))\n",
    "toolbox.decorate(\"mutate\", gp.staticLimit(key=operator.attrgetter(\"height\"), max_value=17))"
   ]
  },
  {
   "cell_type": "markdown",
   "id": "87788cdb",
   "metadata": {},
   "source": [
    "#### 4. Algorithm initialization"
   ]
  },
  {
   "cell_type": "markdown",
   "id": "27ec4660",
   "metadata": {},
   "source": [
    "#### 4.1. With multiprocessing"
   ]
  },
  {
   "cell_type": "code",
   "execution_count": null,
   "id": "bc5ae2e9",
   "metadata": {},
   "outputs": [
    {
     "name": "stdout",
     "output_type": "stream",
     "text": [
      "Entering multiprocessing with 8 cores\n"
     ]
    },
    {
     "name": "stderr",
     "output_type": "stream",
     "text": [
      "C:\\Users\\Christian Mariscal\\Documents\\TFM\\venv_TFM\\lib\\site-packages\\numba\\cuda\\cudadrv\\devicearray.py:870: VisibleDeprecationWarning: Creating an ndarray from ragged nested sequences (which is a list-or-tuple of lists-or-tuples-or ndarrays with different lengths or shapes) is deprecated. If you meant to do this, you must specify 'dtype=object' when creating the ndarray.\n",
      "  obj = np.array(\n",
      "  0%|                                                                                          | 0/500 [00:00<?, ?it/s]"
     ]
    },
    {
     "name": "stdout",
     "output_type": "stream",
     "text": [
      "Entering 1th generation\n",
      "[deap.creator.FitnessMin((142787143602.03012, 2.0)), deap.creator.FitnessMin((142787146415.19748, 1.0)), deap.creator.FitnessMin((142787149724.58612, 1.0)), deap.creator.FitnessMin((142747163089.5493, -0.0)), deap.creator.FitnessMin((142787153080.1795, 1.0)), deap.creator.FitnessMin((142747163089.5493, 1.0)), deap.creator.FitnessMin((142787159807.18063, 1.0)), deap.creator.FitnessMin((142787178672.80054, 2.0)), deap.creator.FitnessMin((142747223623.47357, 2.0)), deap.creator.FitnessMin((142747169783.54086, 2.0)), deap.creator.FitnessMin((142787146415.19748, 2.0)), deap.creator.FitnessMin((142787146415.19748, 1.0)), deap.creator.FitnessMin((142787151398.3693, 2.0)), deap.creator.FitnessMin((142747156403.55768, 2.0)), deap.creator.FitnessMin((142787153107.18906, 2.0)), deap.creator.FitnessMin((142787146415.19748, 1.0)), deap.creator.FitnessMin((142747196639.5072, 2.0)), deap.creator.FitnessMin((142787093096.02344, 1.0)), deap.creator.FitnessMin((142787149553.51804, 2.0)), deap.creator.FitnessMin((142747179839.52823, 1.0)), deap.creator.FitnessMin((142787156456.18488, 1.0)), deap.creator.FitnessMin((142787148601.40622, 1.0)), deap.creator.FitnessMin((142827119717.8667, 2.0)), deap.creator.FitnessMin((142827136407.84567, 1.0)), deap.creator.FitnessMin((142747149998.94562, 3.0)), deap.creator.FitnessMin((142707204716.3512, 3.0)), deap.creator.FitnessMin((142787149724.58612, 1.0)), deap.creator.FitnessMin((142787281775.02927, 1.0)), deap.creator.FitnessMin((142787146415.19748, 1.0)), deap.creator.FitnessMin((142787146415.19748, 1.0)), deap.creator.FitnessMin((142787119727.2311, 1.0)), deap.creator.FitnessMin((142787143885.02585, 2.0)), deap.creator.FitnessMin((142777149958.75415, 2.0)), deap.creator.FitnessMin((142707186430.90106, 1.0)), deap.creator.FitnessMin((142787144743.4496, 1.0)), deap.creator.FitnessMin((142787130413.26974, 2.0)), deap.creator.FitnessMin((11577359188934.432, 2.0)), deap.creator.FitnessMin((142827136407.84567, 1.0)), deap.creator.FitnessMin((142787148936.8118, 2.0)), deap.creator.FitnessMin((142787143621.40656, 2.0)), deap.creator.FitnessMin((142747162617.52335, 2.0)), deap.creator.FitnessMin((142787119727.2311, 2.0)), deap.creator.FitnessMin((142807140578.14658, 3.0)), deap.creator.FitnessMin((142746758945.50626, 2.0)), deap.creator.FitnessMin((142787148956.1678, 2.0)), deap.creator.FitnessMin((142747159745.55347, 1.0)), deap.creator.FitnessMin((142787151398.3693, 3.0)), deap.creator.FitnessMin((142667250009.21082, 2.0)), deap.creator.FitnessMin((142787162418.128, 1.0)), deap.creator.FitnessMin((142786657946.31326, 2.0)), deap.creator.FitnessMin((142747147089.21103, 2.0)), deap.creator.FitnessMin((142787147793.48978, 2.0)), deap.creator.FitnessMin((142747133065.5871, 1.0)), deap.creator.FitnessMin((142787146415.19748, 1.0)), deap.creator.FitnessMin((142787123056.22693, 1.0)), deap.creator.FitnessMin((142827103118.57867, 1.0)), deap.creator.FitnessMin((571849184925.3431, 3.0)), deap.creator.FitnessMin((142337718395.87393, 2.0)), deap.creator.FitnessMin((142747179839.52823, 2.0)), deap.creator.FitnessMin((142827136407.84567, 1.0)), deap.creator.FitnessMin((142803792882.6468, 2.0)), deap.creator.FitnessMin((142787090381.02448, 2.0)), deap.creator.FitnessMin((142787134486.72614, 2.0)), deap.creator.FitnessMin((142707186430.90106, 1.0)), deap.creator.FitnessMin((142827103077.88773, 2.0)), deap.creator.FitnessMin((142787086547.27316, 1.0)), deap.creator.FitnessMin((142827116385.8709, 2.0)), deap.creator.FitnessMin((142747129739.59134, 1.0)), deap.creator.FitnessMin((142787086547.27316, 1.0)), deap.creator.FitnessMin((142827136407.84567, 1.0)), deap.creator.FitnessMin((142787146415.19748, 3.0)), deap.creator.FitnessMin((142787130413.26974, 2.0)), deap.creator.FitnessMin((142707186430.90106, 1.0)), deap.creator.FitnessMin((142779140417.30984, 2.0)), deap.creator.FitnessMin((142707169725.9221, 2.0)), deap.creator.FitnessMin((142747147089.21103, 2.0)), deap.creator.FitnessMin((142787149760.07327, 2.0)), deap.creator.FitnessMin((142787143922.38943, 2.0)), deap.creator.FitnessMin((142787186687.147, 1.0)), deap.creator.FitnessMin((142787162418.128, 1.0)), deap.creator.FitnessMin((142787160502.6913, 2.0)), deap.creator.FitnessMin((142787169872.16803, 1.0)), deap.creator.FitnessMin((142787146887.1221, 1.0)), deap.creator.FitnessMin((142787143072.2017, 2.0)), deap.creator.FitnessMin((142787103112.25214, 2.0)), deap.creator.FitnessMin((142787149420.01114, 3.0)), deap.creator.FitnessMin((142787129720.2185, 1.0)), deap.creator.FitnessMin((142787142685.95187, 2.0)), deap.creator.FitnessMin((142787119727.2311, 1.0)), deap.creator.FitnessMin((142787186405.85507, 1.0)), deap.creator.FitnessMin((142987163048.43848, 2.0)), deap.creator.FitnessMin((142587296456.95645, 1.0)), deap.creator.FitnessMin((142787144608.72076, 1.0)), deap.creator.FitnessMin((142787149553.51804, 2.0)), deap.creator.FitnessMin((142387613173.71545, 1.0)), deap.creator.FitnessMin((142827166575.80783, 2.0)), deap.creator.FitnessMin((142827106106.3999, 2.0)), deap.creator.FitnessMin((142707169725.9221, 2.0)), deap.creator.FitnessMin((142787153080.1795, 1.0)), deap.creator.FitnessMin((142787281775.02927, 1.0)), deap.creator.FitnessMin((142787149229.78098, 1.0)), deap.creator.FitnessMin((142827129725.8541, 3.0)), deap.creator.FitnessMin((142747136393.58292, 1.0)), deap.creator.FitnessMin((142787179955.1554, -0.0)), deap.creator.FitnessMin((142827153147.82465, 2.0)), deap.creator.FitnessMin((142747164531.61154, 3.0)), deap.creator.FitnessMin((142787146901.77014, 1.0)), deap.creator.FitnessMin((142787144494.73328, 2.0)), deap.creator.FitnessMin((142787148087.35913, 2.0)), deap.creator.FitnessMin((142747153063.5619, 2.0)), deap.creator.FitnessMin((142827136407.84567, 1.0)), deap.creator.FitnessMin((142787420334.86105, 1.0)), deap.creator.FitnessMin((142747143055.5745, 2.0)), deap.creator.FitnessMin((142787146901.77014, 1.0)), deap.creator.FitnessMin((142787146415.19748, 2.0)), deap.creator.FitnessMin((142667229843.23602, 2.0)), deap.creator.FitnessMin((142787146415.19748, 1.0)), deap.creator.FitnessMin((142707186430.90106, 1.0)), deap.creator.FitnessMin((142787162418.128, 1.0)), deap.creator.FitnessMin((142787149618.52383, 2.0)), deap.creator.FitnessMin((142667216439.25287, 2.0)), deap.creator.FitnessMin((142787183320.1512, 1.0)), deap.creator.FitnessMin((142747189913.51562, 1.0)), deap.creator.FitnessMin((142787079935.2816, 1.0)), deap.creator.FitnessMin((142747172764.7875, 3.0)), deap.creator.FitnessMin((142787247635.07132, 1.0)), deap.creator.FitnessMin((142787143205.314, 1.0)), deap.creator.FitnessMin((142787133085.16653, 1.0)), deap.creator.FitnessMin((142787109792.93048, 2.0)), deap.creator.FitnessMin((142747153063.5619, 1.0)), deap.creator.FitnessMin((142787149229.78098, 1.0)), deap.creator.FitnessMin((142800475671.9691, 1.0)), deap.creator.FitnessMin((142827169937.80362, 1.0)), deap.creator.FitnessMin((142787149724.58612, 1.0)), deap.creator.FitnessMin((142747147089.21103, 2.0)), deap.creator.FitnessMin((142787099795.25635, 1.0)), deap.creator.FitnessMin((142787143072.69376, 3.0)), deap.creator.FitnessMin((142787153080.1795, 1.0)), deap.creator.FitnessMin((142787176592.15964, 1.0)), deap.creator.FitnessMin((142787146415.19748, 1.0)), deap.creator.FitnessMin((142827136407.84567, 1.0)), deap.creator.FitnessMin((142987163048.43848, 1.0)), deap.creator.FitnessMin((142787146786.7649, 2.0)), deap.creator.FitnessMin((142787139731.20587, 1.0)), deap.creator.FitnessMin((142787137704.81387, 2.0)), deap.creator.FitnessMin((143027166384.1119, 2.0)), deap.creator.FitnessMin((142791589418.47937, 1.0)), deap.creator.FitnessMin((142827106401.8835, 1.0)), deap.creator.FitnessMin((142747129739.59134, 1.0)), deap.creator.FitnessMin((142787162418.128, 1.0)), deap.creator.FitnessMin((142787156456.18488, 1.0)), deap.creator.FitnessMin((142387613173.71545, 1.0)), deap.creator.FitnessMin((142387609820.71964, 2.0)), deap.creator.FitnessMin((142787148644.97244, 1.0)), deap.creator.FitnessMin((142827119717.8667, 1.0)), deap.creator.FitnessMin((142827176667.79523, 2.0)), deap.creator.FitnessMin((142787146415.19748, 2.0)), deap.creator.FitnessMin((142787153107.18906, 1.0)), deap.creator.FitnessMin((142787146887.1221, 1.0)), deap.creator.FitnessMin((142747163089.5493, 1.0)), deap.creator.FitnessMin((142787145466.71277, 1.0)), deap.creator.FitnessMin((142787143105.6468, 2.0)), deap.creator.FitnessMin((142787162418.128, 1.0)), deap.creator.FitnessMin((142787160502.6913, 2.0)), deap.creator.FitnessMin((142787157304.5435, 2.0)), deap.creator.FitnessMin((142787149211.55, 2.0)), deap.creator.FitnessMin((142747159745.55347, 2.0)), deap.creator.FitnessMin((142787099760.79886, 1.0)), deap.creator.FitnessMin((142787162418.128, 1.0)), deap.creator.FitnessMin((142787113075.23953, 1.0)), deap.creator.FitnessMin((142787268095.04608, 1.0)), deap.creator.FitnessMin((142787146415.19748, 2.0)), deap.creator.FitnessMin((142787146043.65472, 3.0)), deap.creator.FitnessMin((142747163089.5493, 1.0)), deap.creator.FitnessMin((142747156403.55768, 1.0)), deap.creator.FitnessMin((142787162418.128, 1.0)), deap.creator.FitnessMin((142787143885.02585, 1.0)), deap.creator.FitnessMin((142347696518.06726, 2.0)), deap.creator.FitnessMin((142627253114.60468, 1.0)), deap.creator.FitnessMin((142747193275.5114, 1.0)), deap.creator.FitnessMin((142706789050.26434, 4.0)), deap.creator.FitnessMin((142787099871.45938, 2.0)), deap.creator.FitnessMin((142747163089.5493, 1.0)), deap.creator.FitnessMin((142787113075.23953, 1.0)), deap.creator.FitnessMin((142827139751.84146, 2.0)), deap.creator.FitnessMin((142787312671.9914, 2.0)), deap.creator.FitnessMin((142787106425.60703, 1.0)), deap.creator.FitnessMin((142787119727.2311, 1.0)), deap.creator.FitnessMin((142787143072.2017, 1.0)), deap.creator.FitnessMin((142786640592.13184, 3.0)), deap.creator.FitnessMin((142707186430.90106, 2.0)), deap.creator.FitnessMin((142787162418.128, 1.0)), deap.creator.FitnessMin((142787142685.95187, 2.0)), deap.creator.FitnessMin((142787146415.19748, 1.0)), deap.creator.FitnessMin((142787144218.66867, 1.0)), deap.creator.FitnessMin((142707186430.90106, 1.0)), deap.creator.FitnessMin((142787143107.76648, 1.0)), deap.creator.FitnessMin((142547346466.30826, 2.0)), deap.creator.FitnessMin((142787146900.05508, 2.0)), deap.creator.FitnessMin((142787149760.19327, 2.0)), deap.creator.FitnessMin((142787164237.62552, 2.0)), deap.creator.FitnessMin((142221111644.9439, 2.0)), deap.creator.FitnessMin((142787136392.21008, 1.0)), deap.creator.FitnessMin((142747136393.58292, 2.0)), deap.creator.FitnessMin((142787162418.128, 2.0)), deap.creator.FitnessMin((142707189777.89685, 2.0)), deap.creator.FitnessMin((142787247635.07132, 1.0)), deap.creator.FitnessMin((142827136407.84567, 1.0)), deap.creator.FitnessMin((142747156403.55768, 1.0)), deap.creator.FitnessMin((142827103118.57867, 1.0)), deap.creator.FitnessMin((142787155215.7651, 1.0)), deap.creator.FitnessMin((142787126387.2227, 1.0)), deap.creator.FitnessMin((142787336814.96198, 2.0)), deap.creator.FitnessMin((142787150254.53244, 3.0)), deap.creator.FitnessMin((142787144361.35727, 2.0)), deap.creator.FitnessMin((142787151398.3693, 2.0)), deap.creator.FitnessMin((142786614839.52594, 3.0)), deap.creator.FitnessMin((142827119717.8667, 1.0)), deap.creator.FitnessMin((142787130413.26974, 2.0)), deap.creator.FitnessMin((142747196639.5072, 1.0)), deap.creator.FitnessMin((142787162418.128, 1.0)), deap.creator.FitnessMin((142783131780.84888, 2.0)), deap.creator.FitnessMin((142787227247.09656, 1.0)), deap.creator.FitnessMin((142787149229.78098, 3.0)), deap.creator.FitnessMin((142787146415.19748, 1.0)), deap.creator.FitnessMin((143027186376.08667, 1.0)), deap.creator.FitnessMin((142747119773.60394, 2.0)), deap.creator.FitnessMin((142787162418.128, 1.0)), deap.creator.FitnessMin((142787143894.71985, 1.0)), deap.creator.FitnessMin((142747196639.5072, 1.0)), deap.creator.FitnessMin((142787173197.53876, 2.0)), deap.creator.FitnessMin((142747160042.65253, 2.0)), deap.creator.FitnessMin((142747186553.51984, 1.0)), deap.creator.FitnessMin((142787144218.66867, 1.0)), deap.creator.FitnessMin((142787155215.7651, 1.0)), deap.creator.FitnessMin((142337718395.87393, 2.0)), deap.creator.FitnessMin((142827323297.61438, 2.0)), deap.creator.FitnessMin((142627253114.60468, 1.0)), deap.creator.FitnessMin((142507403142.66006, 1.0)), deap.creator.FitnessMin((143067225177.33875, 3.0)), deap.creator.FitnessMin((142787144218.66867, 1.0)), deap.creator.FitnessMin((142707193126.89267, 2.0)), deap.creator.FitnessMin((142787179955.1554, 2.0)), deap.creator.FitnessMin((142787143143.028, 2.0)), deap.creator.FitnessMin((142786764793.21802, 3.0)), deap.creator.FitnessMin((142747179090.89032, 2.0)), deap.creator.FitnessMin((142779149216.70782, 1.0)), deap.creator.FitnessMin((142707186430.90106, 1.0)), deap.creator.FitnessMin((142787162418.128, 1.0)), deap.creator.FitnessMin((142787455474.81897, 1.0)), deap.creator.FitnessMin((142747103203.62497, 2.0)), deap.creator.FitnessMin((142827103118.57867, 1.0)), deap.creator.FitnessMin((142747129739.59134, 1.0)), deap.creator.FitnessMin((142827136407.84567, 1.0)), deap.creator.FitnessMin((142787155215.7651, 1.0)), deap.creator.FitnessMin((142627253114.60468, 1.0)), deap.creator.FitnessMin((142787143767.92752, 2.0)), deap.creator.FitnessMin((142787142362.59372, 4.0)), deap.creator.FitnessMin((142787136392.21008, 1.0)), deap.creator.FitnessMin((143107253032.3831, 1.0)), deap.creator.FitnessMin((142787144975.23175, 2.0)), deap.creator.FitnessMin((142787155886.78702, 3.0)), deap.creator.FitnessMin((142787160502.6913, 2.0)), deap.creator.FitnessMin((142787086664.81638, 2.0)), deap.creator.FitnessMin((142827103118.57867, 1.0)), deap.creator.FitnessMin((142707186430.90106, 1.0)), deap.creator.FitnessMin((142827103077.88773, 2.0)), deap.creator.FitnessMin((142787129720.2185, 1.0)), deap.creator.FitnessMin((142787155215.7651, 1.0)), deap.creator.FitnessMin((142786208831.59717, 2.0)), deap.creator.FitnessMin((142781434103.34976, 1.0)), deap.creator.FitnessMin((142747186553.51984, 1.0)), deap.creator.FitnessMin((142787175810.0909, 2.0)), deap.creator.FitnessMin((142747149725.5661, 1.0)), deap.creator.FitnessMin((142787146415.19748, 1.0)), deap.creator.FitnessMin((142787109884.55945, 2.0)), deap.creator.FitnessMin((142787193427.13858, 1.0)), deap.creator.FitnessMin((142787146415.19748, 1.0)), deap.creator.FitnessMin((142727173926.8502, 2.0)), deap.creator.FitnessMin((142707216625.86322, 2.0)), deap.creator.FitnessMin((142787143107.76648, 1.0)), deap.creator.FitnessMin((142827103118.57867, 1.0)), deap.creator.FitnessMin((142787149211.55, 2.0)), deap.creator.FitnessMin((142787143369.21185, 2.0)), deap.creator.FitnessMin((142747163089.5493, -0.0)), deap.creator.FitnessMin((142867133067.49387, 1.0)), deap.creator.FitnessMin((142787179955.1554, 1.0)), deap.creator.FitnessMin((142787173231.16382, 1.0)), deap.creator.FitnessMin((142787146400.39798, 2.0)), deap.creator.FitnessMin((142787426374.85098, 2.0)), deap.creator.FitnessMin((142827133065.84988, 1.0)), deap.creator.FitnessMin((142787149456.71106, 1.0)), deap.creator.FitnessMin((142747149725.5661, 1.0)), deap.creator.FitnessMin((142827136407.84567, 1.0)), deap.creator.FitnessMin((142787046995.32364, 2.0)), deap.creator.FitnessMin((142787149760.19327, 1.0)), deap.creator.FitnessMin((142747173133.53665, 1.0)), deap.creator.FitnessMin((142787143072.2017, 1.0)), deap.creator.FitnessMin((142783131780.84888, 2.0)), deap.creator.FitnessMin((142787159807.18063, 1.0)), deap.creator.FitnessMin((142827149795.82886, 1.0)), deap.creator.FitnessMin((142747136393.58292, 1.0)), deap.creator.FitnessMin((142787079766.57068, 1.0)), deap.creator.FitnessMin((142787169872.16803, 1.0)), deap.creator.FitnessMin((142787067254.96255, 2.0)), deap.creator.FitnessMin((142827136407.84567, 1.0)), deap.creator.FitnessMin((142786785987.7623, 2.0)), deap.creator.FitnessMin((142707186430.90106, 1.0)), deap.creator.FitnessMin((142787131575.8095, 3.0)), deap.creator.FitnessMin((142787143072.2017, 2.0)), deap.creator.FitnessMin((142832135625.70013, 2.0)), deap.creator.FitnessMin((142707199830.88425, 2.0)), deap.creator.FitnessMin((142787179955.1554, 1.0)), deap.creator.FitnessMin((142787153079.84998, 2.0)), deap.creator.FitnessMin((142787146415.19748, 2.0)), deap.creator.FitnessMin((142787163160.17645, 1.0)), deap.creator.FitnessMin((142787079935.2816, 1.0)), deap.creator.FitnessMin((142827136407.84567, 1.0)), deap.creator.FitnessMin((142787146415.19748, 1.0)), deap.creator.FitnessMin((143237726273.83002, 3.0)), deap.creator.FitnessMin((142787149626.9248, 2.0)), deap.creator.FitnessMin((142787113075.23953, 1.0)), deap.creator.FitnessMin((142787146415.19748, 1.0)), deap.creator.FitnessMin((142747193275.5114, 1.0)), deap.creator.FitnessMin((142787392366.89468, 1.0)), deap.creator.FitnessMin((142867126387.5023, 3.0)), deap.creator.FitnessMin((142787116400.23532, 1.0)), deap.creator.FitnessMin((142787145466.71277, 1.0)), deap.creator.FitnessMin((142787173075.48676, 1.0)), deap.creator.FitnessMin((142747181933.26978, 2.0)), deap.creator.FitnessMin((142787133085.16653, 1.0)), deap.creator.FitnessMin((142787146415.19748, 2.0)), deap.creator.FitnessMin((142787143205.75967, 2.0)), deap.creator.FitnessMin((142787146415.19748, 1.0)), deap.creator.FitnessMin((142667183069.29492, 2.0)), deap.creator.FitnessMin((142787105280.68915, 2.0)), deap.creator.FitnessMin((142787153544.01257, 2.0)), deap.creator.FitnessMin((142827136407.84567, 1.0)), deap.creator.FitnessMin((142827136407.84567, 1.0)), deap.creator.FitnessMin((142707186430.90106, 1.0)), deap.creator.FitnessMin((142787146415.19748, 1.0)), deap.creator.FitnessMin((142787159075.13727, 2.0)), deap.creator.FitnessMin((142787143072.2017, 1.0)), deap.creator.FitnessMin((142787099795.25635, 1.0)), deap.creator.FitnessMin((142387613173.71545, 1.0)), deap.creator.FitnessMin((142787146415.19748, 2.0)), deap.creator.FitnessMin((142787146415.19748, 1.0)), deap.creator.FitnessMin((142747176485.53244, 1.0)), deap.creator.FitnessMin((142827123955.6418, 3.0)), deap.creator.FitnessMin((142747154290.84113, 2.0)), deap.creator.FitnessMin((142783285183.53275, 2.0)), deap.creator.FitnessMin((142787173075.48676, 1.0)), deap.creator.FitnessMin((142787143072.2017, 1.0)), deap.creator.FitnessMin((142787147158.35703, 1.0)), deap.creator.FitnessMin((142787193427.13858, 1.0)), deap.creator.FitnessMin((142827136407.84567, 1.0)), deap.creator.FitnessMin((142787146415.19748, 1.0)), deap.creator.FitnessMin((142787155215.7651, 1.0)), deap.creator.FitnessMin((143067216370.7349, 2.0)), deap.creator.FitnessMin((142707186430.90106, 1.0)), deap.creator.FitnessMin((142427536496.36365, 2.0)), deap.creator.FitnessMin((142747179839.52823, 1.0)), deap.creator.FitnessMin((142787147349.63977, 1.0)), deap.creator.FitnessMin((142747163089.5493, -0.0)), deap.creator.FitnessMin((142827136407.84567, 1.0)), deap.creator.FitnessMin((142747186553.51984, 1.0)), deap.creator.FitnessMin((142787155215.7651, 1.0)), deap.creator.FitnessMin((142627253114.60468, 1.0)), deap.creator.FitnessMin((142783144576.80255, 2.0)), deap.creator.FitnessMin((142787147793.48978, 1.0)), deap.creator.FitnessMin((142787113075.23953, 1.0)), deap.creator.FitnessMin((142787193071.0883, 1.0)), deap.creator.FitnessMin((142787200175.1302, 1.0)), deap.creator.FitnessMin((142787066735.2984, 1.0)), deap.creator.FitnessMin((142787106425.60703, 1.0)), deap.creator.FitnessMin((142787162418.128, 1.0)), deap.creator.FitnessMin((142787155215.7651, 1.0)), deap.creator.FitnessMin((142707186430.90106, 1.0)), deap.creator.FitnessMin((142787146887.1221, 1.0)), deap.creator.FitnessMin((142787146415.19748, -0.0)), deap.creator.FitnessMin((142747154290.84113, 2.0)), deap.creator.FitnessMin((142786624499.66296, 2.0)), deap.creator.FitnessMin((142427533969.10095, 2.0)), deap.creator.FitnessMin((142787169872.16803, 2.0)), deap.creator.FitnessMin((142787143375.33752, 1.0)), deap.creator.FitnessMin((142787149229.78098, 1.0)), deap.creator.FitnessMin((142787113090.44785, 1.0)), deap.creator.FitnessMin((142787159745.2492, 1.0)), deap.creator.FitnessMin((142787152087.19675, 2.0)), deap.creator.FitnessMin((142786204841.9626, 2.0)), deap.creator.FitnessMin((142507403142.66006, 4.0)), deap.creator.FitnessMin((142787166515.17224, 1.0)), deap.creator.FitnessMin((142787143108.98895, 2.0)), deap.creator.FitnessMin((142787143072.2017, 2.0)), deap.creator.FitnessMin((142747186553.51984, 1.0)), deap.creator.FitnessMin((142787162418.128, 1.0)), deap.creator.FitnessMin((142787119727.2311, 1.0)), deap.creator.FitnessMin((142787148590.18015, 2.0)), deap.creator.FitnessMin((142787144596.28912, 1.0)), deap.creator.FitnessMin((142747146389.57028, 1.0)), deap.creator.FitnessMin((142827143097.83728, 1.0)), deap.creator.FitnessMin((142787018427.8542, 2.0)), deap.creator.FitnessMin((142787153080.1795, 1.0)), deap.creator.FitnessMin((142827136407.84567, 2.0)), deap.creator.FitnessMin((142707186430.90106, 1.0)), deap.creator.FitnessMin((142747173133.53665, 2.0)), deap.creator.FitnessMin((142787148601.40622, 1.0)), deap.creator.FitnessMin((142787123056.22693, 2.0)), deap.creator.FitnessMin((142787147901.61536, 1.0)), deap.creator.FitnessMin((142747196639.5072, 1.0)), deap.creator.FitnessMin((142827103118.57867, 3.0)), deap.creator.FitnessMin((142787148234.69772, 1.0)), deap.creator.FitnessMin((142787145480.9113, 1.0)), deap.creator.FitnessMin((142787162418.128, 1.0)), deap.creator.FitnessMin((142827136407.84567, 1.0)), deap.creator.FitnessMin((142787143107.76648, 1.0)), deap.creator.FitnessMin((142827136407.84567, 1.0)), deap.creator.FitnessMin((142787109170.27628, 2.0)), deap.creator.FitnessMin((142827113055.87512, 1.0)), deap.creator.FitnessMin((142787312671.9914, 2.0)), deap.creator.FitnessMin((142786997960.38672, 1.0)), deap.creator.FitnessMin((142787143072.2017, 1.0)), deap.creator.FitnessMin((142747163089.5493, 1.0)), deap.creator.FitnessMin((142779149216.70782, 1.0)), deap.creator.FitnessMin((142787130413.26974, 2.0)), deap.creator.FitnessMin((142767120574.04044, 2.0)), deap.creator.FitnessMin((142787155215.7651, 1.0)), deap.creator.FitnessMin((142787149221.75317, 1.0)), deap.creator.FitnessMin((142787147793.48978, 1.0)), deap.creator.FitnessMin((142747133065.5871, 2.0)), deap.creator.FitnessMin((142787173075.48676, 1.0)), deap.creator.FitnessMin((142787143917.2949, 3.0)), deap.creator.FitnessMin((142827136407.84567, 1.0)), deap.creator.FitnessMin((142827136407.84567, 1.0)), deap.creator.FitnessMin((142787146415.19748, 2.0)), deap.creator.FitnessMin((142787119727.2311, 1.0)), deap.creator.FitnessMin((142787145373.7334, 2.0)), deap.creator.FitnessMin((142787148612.58954, 1.0)), deap.creator.FitnessMin((142787162418.128, 1.0)), deap.creator.FitnessMin((142747163089.5493, -0.0)), deap.creator.FitnessMin((142787298920.0082, 1.0)), deap.creator.FitnessMin((142787144218.66867, 2.0)), deap.creator.FitnessMin((142787143072.2017, 1.0)), deap.creator.FitnessMin((142827136407.84567, 1.0)), deap.creator.FitnessMin((142787162418.128, 1.0)), deap.creator.FitnessMin((142827103118.57867, 2.0)), deap.creator.FitnessMin((142747149725.5661, 1.0)), deap.creator.FitnessMin((142787148946.51456, 1.0)), deap.creator.FitnessMin((142827149795.82886, 1.0)), deap.creator.FitnessMin((142787155215.7651, 1.0)), deap.creator.FitnessMin((142707186430.90106, 1.0)), deap.creator.FitnessMin((142787139731.20587, 1.0)), deap.creator.FitnessMin((142787133055.2143, 1.0)), deap.creator.FitnessMin((142782703494.2242, 1.0)), deap.creator.FitnessMin((142747129739.59134, 1.0)), deap.creator.FitnessMin((142787146415.19748, 1.0)), deap.creator.FitnessMin((142787156456.18488, 2.0)), deap.creator.FitnessMin((142747129739.59134, 1.0)), deap.creator.FitnessMin((142787148612.58954, 1.0)), deap.creator.FitnessMin((142747163037.3015, 3.0)), deap.creator.FitnessMin((142747153063.5619, 1.0)), deap.creator.FitnessMin((142787139731.20587, 1.0)), deap.creator.FitnessMin((142787133055.2143, 1.0)), deap.creator.FitnessMin((142787109752.24374, 1.0)), deap.creator.FitnessMin((142787153107.18906, 2.0)), deap.creator.FitnessMin((142787146415.19748, 2.0)), deap.creator.FitnessMin((142787159807.18063, 1.0)), deap.creator.FitnessMin((142787162418.128, 1.0)), deap.creator.FitnessMin((142787151398.3693, 2.0)), deap.creator.FitnessMin((142787149622.75574, 2.0)), deap.creator.FitnessMin((142787166515.17224, 2.0)), deap.creator.FitnessMin((142827106106.3999, 2.0)), deap.creator.FitnessMin((142747159779.0086, 2.0)), deap.creator.FitnessMin((142787150178.45837, 3.0)), deap.creator.FitnessMin((142707186430.90106, 1.0)), deap.creator.FitnessMin((142787152774.2648, 2.0)), deap.creator.FitnessMin((142747216865.482, 2.0)), deap.creator.FitnessMin((142387613173.71545, 1.0)), deap.creator.FitnessMin((142787146415.19748, 2.0)), deap.creator.FitnessMin((142787145928.66714, 2.0)), deap.creator.FitnessMin((142787146415.19748, 1.0)), deap.creator.FitnessMin((142787143621.40656, 2.0)), deap.creator.FitnessMin((143147299697.0271, 3.0)), deap.creator.FitnessMin((142787145479.3805, 2.0)), deap.creator.FitnessMin((142787099760.79886, 1.0)), deap.creator.FitnessMin((142787096480.26056, 1.0)), deap.creator.FitnessMin((142787164431.51923, 3.0)), deap.creator.FitnessMin((142747129739.59134, 1.0)), deap.creator.FitnessMin((142787149221.75317, 2.0)), deap.creator.FitnessMin((142307786529.41904, 2.0)), deap.creator.FitnessMin((142587296456.95645, 1.0)), deap.creator.FitnessMin((142747176485.53244, 1.0)), deap.creator.FitnessMin((142827153147.82465, 1.0)), deap.creator.FitnessMin((142787169872.16803, 1.0)), deap.creator.FitnessMin((142787146415.19748, 1.0)), deap.creator.FitnessMin((142787083240.27737, 1.0)), deap.creator.FitnessMin((142827103118.57867, 1.0)), deap.creator.FitnessMin((142827136407.84567, 1.0)), deap.creator.FitnessMin((142707193126.89267, 2.0)), deap.creator.FitnessMin((142787146415.19748, 2.0))]\n"
     ]
    },
    {
     "name": "stdout",
     "output_type": "stream",
     "text": [
      "\n"
     ]
    },
    {
     "name": "stderr",
     "output_type": "stream",
     "text": [
      "\r",
      "  0%|▏                                                                               | 1/500 [00:32<4:31:10, 32.61s/it]"
     ]
    },
    {
     "name": "stdout",
     "output_type": "stream",
     "text": [
      "Entering 2th generation\n"
     ]
    },
    {
     "name": "stderr",
     "output_type": "stream",
     "text": [
      "\r",
      "  0%|▏                                                                               | 1/500 [00:33<4:40:22, 33.71s/it]"
     ]
    }
   ],
   "source": [
    "def main():\n",
    "    random.seed(0)\n",
    "\n",
    "    pop = toolbox.population(n=500)\n",
    "    hof = tools.ParetoFront()\n",
    "\n",
    "    # Ver que el fitness no es el MSE, es la combinacion de MSE y height\n",
    "    stats_fit_mse = tools.Statistics(lambda ind: ind.fitness.values[0])\n",
    "    stats_fit_height = tools.Statistics(lambda ind: ind.fitness.values[1])\n",
    "    stats_size = tools.Statistics(len)\n",
    "    mstats = tools.MultiStatistics(mse=stats_fit_mse, height=stats_fit_height, size=stats_size)\n",
    "    mstats.register(\"avg\", numpy.mean)\n",
    "    mstats.register(\"std\", numpy.std)\n",
    "    mstats.register(\"min\", numpy.min)\n",
    "    mstats.register(\"max\", numpy.max)\n",
    "\n",
    "    pop, log, hof, front = algorithms.eaSimpleOrNSGAII(pop, toolbox, .8, .1, 500, stats=mstats,\n",
    "                                   halloffame=hof, verbose=True, plot = False, multi = True)\n",
    "    return pop, log, hof, front\n",
    "\n",
    "if __name__ == \"__main__\":\n",
    "    pop, log, hof, front = main()"
   ]
  },
  {
   "cell_type": "markdown",
   "id": "8c34ce72",
   "metadata": {},
   "source": [
    "#### 4.2 Without multiprocessing"
   ]
  },
  {
   "cell_type": "code",
   "execution_count": null,
   "id": "22d7f8a1",
   "metadata": {},
   "outputs": [],
   "source": [
    "# def main():\n",
    "#     random.seed(0)\n",
    "\n",
    "#     pop = toolbox.population(n=500)\n",
    "#     hof = tools.ParetoFront()\n",
    "\n",
    "#     # Ver que el fitness no es el MSE, es la combinacion de MSE y height\n",
    "#     stats_fit_mse = tools.Statistics(lambda ind: ind.fitness.values[0])\n",
    "#     stats_fit_height = tools.Statistics(lambda ind: ind.fitness.values[1])\n",
    "#     stats_size = tools.Statistics(len)\n",
    "#     mstats = tools.MultiStatistics(mse=stats_fit_mse, height=stats_fit_height, size=stats_size)\n",
    "#     mstats.register(\"avg\", numpy.mean)\n",
    "#     mstats.register(\"std\", numpy.std)\n",
    "#     mstats.register(\"min\", numpy.min)\n",
    "#     mstats.register(\"max\", numpy.max)\n",
    "\n",
    "#     pop, log, hof, front = algorithms.eaSimpleOrNSGAII(pop, toolbox, .8, .1, 500, stats=mstats,\n",
    "#                                    halloffame=hof, verbose=True, plot = False, multi = False)\n",
    "#     return pop, log, hof, front\n",
    "\n",
    "# if __name__ == \"__main__\":\n",
    "#     pop, log, hof, front = main()"
   ]
  },
  {
   "cell_type": "markdown",
   "id": "a97f2858",
   "metadata": {},
   "source": [
    "### 5. Simplifying resultant equation"
   ]
  },
  {
   "cell_type": "code",
   "execution_count": null,
   "id": "e36561bd",
   "metadata": {},
   "outputs": [],
   "source": [
    "# from sympy import sympify\n",
    "\n",
    "# locals = {\n",
    "#     'sub': lambda x, y : x - y,\n",
    "#     'protectedDiv': lambda x, y : x/y,\n",
    "#     'mul': lambda x, y : x*y,\n",
    "#     'add': lambda x, y : x + y,\n",
    "#     'neg': lambda x    : -x,\n",
    "#     'pow': lambda x, y : x**y\n",
    "# }\n",
    "# ind = hof.__getitem__(0).__str__()\n",
    "# print(f'original: {ind}')\n",
    "# expr = sympify(str(ind) , locals=locals)\n",
    "# print(f'simplified: {expr}')"
   ]
  },
  {
   "cell_type": "markdown",
   "id": "a23def01",
   "metadata": {},
   "source": [
    "### 6. Graphs"
   ]
  },
  {
   "cell_type": "code",
   "execution_count": null,
   "id": "05be718b",
   "metadata": {},
   "outputs": [],
   "source": [
    "# fig, ax = plt.subplots()\n",
    "# original = lambda x: x**4 + x**3 + x**2 + x + 1\n",
    "# ax.plot(numpy.linspace(-100,100,100), [original(x) for x in numpy.linspace(-100,100,100)], color = 'r', marker = 'o', label='original')\n",
    "# aprox = lambda x: toolbox.compile(hof.__getitem__(0))(x)\n",
    "# ax.plot(numpy.linspace(-100,100,100), [aprox(x) for x in numpy.linspace(-100,100,100)], color = 'b', marker='v', label='aproximation')\n",
    "# plt.legend()"
   ]
  },
  {
   "cell_type": "markdown",
   "id": "e62ad58c",
   "metadata": {},
   "source": [
    "### 7. Pareto front"
   ]
  },
  {
   "cell_type": "code",
   "execution_count": null,
   "id": "e573a8cc",
   "metadata": {},
   "outputs": [],
   "source": [
    "# sacarMSE = lambda x: x.fitness.values[0]\n",
    "# sacarSIZE = lambda x: x.fitness.values[1]"
   ]
  },
  {
   "cell_type": "code",
   "execution_count": null,
   "id": "be40b2e2",
   "metadata": {},
   "outputs": [],
   "source": [
    "# fig, ax = plt.subplots()\n",
    "# ax.plot([sacarSIZE(ind) for ind in hof.items],[sacarMSE(ind) for ind in hof.items], linestyle = 'none', marker = 'o')\n",
    "# ax.set_xlabel('Size')\n",
    "# ax.set_ylabel('MSE')\n",
    "# ax.set_title('Pareto Front')"
   ]
  },
  {
   "cell_type": "code",
   "execution_count": null,
   "id": "72b14c6b",
   "metadata": {},
   "outputs": [],
   "source": [
    "#This code loops through the different individuals and shows their equation\n",
    "# for ind in pop: \n",
    "#     ind = ind.__str__()\n",
    "#     print(f'original: {ind}')\n",
    "#     expr = sympify(str(ind) , locals=locals)\n",
    "#     print(f'simplified: {expr}')\n",
    "#     input()"
   ]
  }
 ],
 "metadata": {
  "kernelspec": {
   "display_name": "Python 3 (ipykernel)",
   "language": "python",
   "name": "python3"
  },
  "language_info": {
   "codemirror_mode": {
    "name": "ipython",
    "version": 3
   },
   "file_extension": ".py",
   "mimetype": "text/x-python",
   "name": "python",
   "nbconvert_exporter": "python",
   "pygments_lexer": "ipython3",
   "version": "3.10.5"
  }
 },
 "nbformat": 4,
 "nbformat_minor": 5
}

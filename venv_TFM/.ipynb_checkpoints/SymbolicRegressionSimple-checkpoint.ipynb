{
 "cells": [
  {
   "cell_type": "code",
   "execution_count": 1,
   "id": "3cdb0b5c",
   "metadata": {},
   "outputs": [],
   "source": [
    "from deap import gp, creator, base, tools\n",
    "import operator, math, random, numpy"
   ]
  },
  {
   "cell_type": "code",
   "execution_count": 2,
   "id": "2c6f737e",
   "metadata": {},
   "outputs": [],
   "source": [
    "def protectedDiv(left, right):\n",
    "    try:\n",
    "        return left / right\n",
    "    except ZeroDivisionError:\n",
    "        return 1\n",
    "\n",
    "pset = gp.PrimitiveSet(\"MAIN\", 1)\n",
    "pset.addPrimitive(operator.add, 2)\n",
    "pset.addPrimitive(operator.sub, 2)\n",
    "pset.addPrimitive(operator.mul, 2)\n",
    "pset.addPrimitive(protectedDiv, 2)\n",
    "pset.addPrimitive(operator.neg, 1)\n",
    "pset.addPrimitive(math.cos, 1)\n",
    "pset.addPrimitive(math.sin, 1)\n",
    "pset.addEphemeralConstant(\"rand101\", lambda: random.randint(-1,1))\n",
    "# Probable bug. Si vuelvo a correr la linea addEPhemeralConstant, da error, por definir 'rand101' dos veces.\n",
    "# se modifica gp.PrimitiveSetTyped.addEphemeralConstant para que se pueda redefinir una constante efimera con el mismo nombre que otra anterior? "
   ]
  },
  {
   "cell_type": "code",
   "execution_count": 3,
   "id": "3b7748bf",
   "metadata": {},
   "outputs": [],
   "source": [
    "creator.create(\"FitnessMin\", base.Fitness, weights=(-1,0))\n",
    "creator.create(\"Individual\", gp.PrimitiveTree, fitness=creator.FitnessMin)"
   ]
  },
  {
   "cell_type": "code",
   "execution_count": 4,
   "id": "30d16612",
   "metadata": {},
   "outputs": [
    {
     "name": "stdout",
     "output_type": "stream",
     "text": [
      "clone functools.partial(<function deepcopy at 0x00000266B46F3BE0>)\n",
      "\n",
      "map functools.partial(<class 'map'>)\n",
      "\n",
      "expr functools.partial(<function genHalfAndHalf at 0x00000266C64B20E0>, pset=<deap.gp.PrimitiveSet object at 0x00000266C64C4880>, min_=1, max_=2)\n",
      "\n",
      "individual functools.partial(<function initIterate at 0x00000266C649ADD0>, <class 'deap.creator.Individual'>, functools.partial(<function genHalfAndHalf at 0x00000266C64B20E0>, pset=<deap.gp.PrimitiveSet object at 0x00000266C64C4880>, min_=1, max_=2))\n",
      "\n",
      "population functools.partial(<function initRepeat at 0x00000266C649AE60>, <class 'list'>, functools.partial(<function initIterate at 0x00000266C649ADD0>, <class 'deap.creator.Individual'>, functools.partial(<function genHalfAndHalf at 0x00000266C64B20E0>, pset=<deap.gp.PrimitiveSet object at 0x00000266C64C4880>, min_=1, max_=2)))\n",
      "\n",
      "compile functools.partial(<function compile at 0x00000266B7D085E0>, pset=<deap.gp.PrimitiveSet object at 0x00000266C64C4880>)\n",
      "\n",
      "evaluate functools.partial(<function evalSymbReg at 0x00000266B7C43D00>, points=[-1.0, -0.9, -0.8, -0.7, -0.6, -0.5, -0.4, -0.3, -0.2, -0.1, 0.0, 0.1, 0.2, 0.3, 0.4, 0.5, 0.6, 0.7, 0.8, 0.9])\n",
      "\n",
      "select functools.partial(<function selTournament at 0x00000266C649B880>, tournsize=3)\n",
      "\n",
      "mate functools.partial(<function cxOnePoint at 0x00000266C64B2290>)\n",
      "\n",
      "expr_mut functools.partial(<function genFull at 0x00000266C64B1FC0>, min_=0, max_=2)\n",
      "\n",
      "mutate functools.partial(<function mutUniform at 0x00000266C64B23B0>, expr=functools.partial(<function genFull at 0x00000266C64B1FC0>, min_=0, max_=2), pset=<deap.gp.PrimitiveSet object at 0x00000266C64C4880>)\n",
      "\n",
      "mate functools.partial(<function cxOnePoint at 0x00000266C64DC040>)\n",
      "\n",
      "mutate functools.partial(<function mutUniform at 0x00000266B7C42050>, expr=functools.partial(<function genFull at 0x00000266C64B1FC0>, min_=0, max_=2), pset=<deap.gp.PrimitiveSet object at 0x00000266C64C4880>)\n",
      "\n"
     ]
    }
   ],
   "source": [
    "toolbox = base.Toolbox()\n",
    "#Los register van añadiendo atributos de manera dinamica a la clase toolbox\n",
    "#How to individual creation\n",
    "toolbox.register(\"expr\", gp.genHalfAndHalf, pset=pset, min_=1, max_=2)\n",
    "#Basicamente initIterate instancia a 'expr' y luego esta es el input de\n",
    "# individual\n",
    "toolbox.register(\"individual\", tools.initIterate, creator.Individual, toolbox.expr)\n",
    "#aqui me ralla porque no hay 'n' del initRepeat\n",
    "toolbox.register(\"population\", tools.initRepeat, list, toolbox.individual)\n",
    "toolbox.register(\"compile\", gp.compile, pset=pset)\n",
    "\n",
    "def evalSymbReg(individual, points):\n",
    "    # Transform the tree expression in a callable function\n",
    "    func = toolbox.compile(expr=individual)\n",
    "    # Evaluate the mean squared error between the expression\n",
    "    # and the real function : x**4 + x**3 + x**2 + x\n",
    "    sqerrors = ((func(x) - x**4 - x**3 - x**2 - x)**2 for x in points)\n",
    "    return math.fsum(sqerrors) / len(points),\n",
    "\n",
    "toolbox.register(\"evaluate\", evalSymbReg, points=[x/10. for x in range(-10,10)])\n",
    "toolbox.register(\"select\", tools.selTournament, tournsize=3)\n",
    "toolbox.register(\"mate\", gp.cxOnePoint)\n",
    "toolbox.register(\"expr_mut\", gp.genFull, min_=0, max_=2)\n",
    "toolbox.register(\"mutate\", gp.mutUniform, expr=toolbox.expr_mut, pset=pset)\n",
    "\n",
    "toolbox.decorate(\"mate\", gp.staticLimit(key=operator.attrgetter(\"height\"), max_value=17))\n",
    "toolbox.decorate(\"mutate\", gp.staticLimit(key=operator.attrgetter(\"height\"), max_value=17))"
   ]
  },
  {
   "cell_type": "code",
   "execution_count": 5,
   "id": "6265e31c",
   "metadata": {},
   "outputs": [],
   "source": [
    "stats_fit = tools.Statistics(lambda ind: ind.fitness.values)\n",
    "stats_size = tools.Statistics(len)\n",
    "mstats = tools.MultiStatistics(fitness=stats_fit, size=stats_size)\n",
    "mstats.register(\"avg\", numpy.mean)\n",
    "mstats.register(\"std\", numpy.std)\n",
    "mstats.register(\"min\", numpy.min)\n",
    "mstats.register(\"max\", numpy.max)"
   ]
  },
  {
   "cell_type": "code",
   "execution_count": null,
   "id": "a228467a",
   "metadata": {},
   "outputs": [],
   "source": []
  }
 ],
 "metadata": {
  "kernelspec": {
   "display_name": "Python 3 (ipykernel)",
   "language": "python",
   "name": "python3"
  },
  "language_info": {
   "codemirror_mode": {
    "name": "ipython",
    "version": 3
   },
   "file_extension": ".py",
   "mimetype": "text/x-python",
   "name": "python",
   "nbconvert_exporter": "python",
   "pygments_lexer": "ipython3",
   "version": "3.10.5"
  }
 },
 "nbformat": 4,
 "nbformat_minor": 5
}
